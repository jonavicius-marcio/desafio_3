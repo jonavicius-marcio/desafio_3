{
 "cells": [
  {
   "cell_type": "code",
   "execution_count": 1,
   "id": "c505f504",
   "metadata": {},
   "outputs": [],
   "source": [
    "import seaborn as sns\n",
    "import matplotlib.pyplot as plt\n",
    "import pandas as pd\n",
    "import numpy as np\n",
    "import warnings"
   ]
  },
  {
   "cell_type": "code",
   "execution_count": 2,
   "id": "69e9ced8",
   "metadata": {},
   "outputs": [],
   "source": [
    "pd.set_option(\"display.max_columns\", 200)\n",
    "pd.set_option(\"display.max_rows\", 50)\n",
    "pd.set_option('display.float_format', lambda x: '%.2f' % x)\n"
   ]
  },
  {
   "cell_type": "code",
   "execution_count": null,
   "id": "df50b687",
   "metadata": {},
   "outputs": [],
   "source": [
    "# As funções abaixo poderiam ser colocadas em um modulo separado"
   ]
  },
  {
   "cell_type": "code",
   "execution_count": 3,
   "id": "7cc43a23",
   "metadata": {},
   "outputs": [],
   "source": [
    "# Calculate information value\n",
    "def calc_iv(df, feature, target, pr=False):\n",
    "    \"\"\"\n",
    "    Set pr=True to enable printing of output.\n",
    "    \n",
    "    Output: \n",
    "      * iv: float,\n",
    "      * data: pandas.DataFrame\n",
    "    \"\"\"\n",
    "\n",
    "    lst = []\n",
    "\n",
    "    df[feature] = df[feature].fillna(\"NULL\")\n",
    "\n",
    "    for i in range(df[feature].nunique()):\n",
    "        val = list(df[feature].unique())[i]\n",
    "        lst.append([feature,                                                        # Variable\n",
    "                    val,                                                            # Value\n",
    "                    df[df[feature] == val].count()[feature],                        # All\n",
    "                    df[(df[feature] == val) & (df[target] == 0)].count()[feature],  # Good (think: Fraud == 0)\n",
    "                    df[(df[feature] == val) & (df[target] == 1)].count()[feature]]) # Bad (think: Fraud == 1)\n",
    "\n",
    "    data = pd.DataFrame(lst, columns=['variable', 'value', 'all', 'good', 'bad'])\n",
    "\n",
    "    data['share'] = data['all'] / data['all'].sum()\n",
    "    data['bad_rate'] = data['bad'] / data['all']\n",
    "    data['distribution_good'] = (data['all'] - data['bad']) / (data['all'].sum() - data['bad'].sum())\n",
    "    data['distribution_bad'] = data['bad'] / data['bad'].sum()\n",
    "    data['woe'] = np.log(data['distribution_good'] / data['distribution_bad'])\n",
    "\n",
    "    data = data.replace({'woe': {np.inf: 0, -np.inf: 0}})\n",
    "\n",
    "    data['iv'] = data['woe'] * (data['distribution_good'] - data['distribution_bad'])\n",
    "\n",
    "    data = data.sort_values(by=['variable', 'value'], ascending=[True, True])\n",
    "    data.index = range(len(data.index))\n",
    "\n",
    "    if pr:\n",
    "        print(data)\n",
    "        print('iv = ', data['iv'].sum())\n",
    "\n",
    "\n",
    "    iv = data['iv'].sum()\n",
    "    # print(iv)\n",
    "\n",
    "    return iv, data"
   ]
  },
  {
   "cell_type": "markdown",
   "id": "169e5a66",
   "metadata": {},
   "source": [
    "# 1) Read"
   ]
  },
  {
   "cell_type": "code",
   "execution_count": 59,
   "id": "7c9c2f01",
   "metadata": {},
   "outputs": [],
   "source": [
    "full_devices = pd.read_csv('full_devices.csv', dtype=str, sep=\",\", encoding=\"Latin-1\" ) "
   ]
  },
  {
   "cell_type": "code",
   "execution_count": 60,
   "id": "8fadd72d",
   "metadata": {},
   "outputs": [],
   "source": [
    "full_devices['failure'] = full_devices['failure'].astype(int)\n",
    "full_devices['attribute2'] = full_devices['attribute2'].astype(int)\n",
    "full_devices['attribute3'] = full_devices['attribute3'].astype(int)\n",
    "full_devices['attribute4'] = full_devices['attribute4'].astype(int)\n",
    "full_devices['attribute5'] = full_devices['attribute5'].astype(int)\n",
    "full_devices['attribute7'] = full_devices['attribute7'].astype(int)\n",
    "full_devices['attribute8'] = full_devices['attribute8'].astype(int)\n",
    "full_devices['attribute9'] = full_devices['attribute9'].astype(int)\n",
    "full_devices['attribute1'] = full_devices['attribute1'].astype(int)\n",
    "full_devices['attribute6'] = full_devices['attribute6'].astype(int)"
   ]
  },
  {
   "cell_type": "markdown",
   "id": "6dccd659",
   "metadata": {},
   "source": [
    "# 2) EAD"
   ]
  },
  {
   "cell_type": "code",
   "execution_count": 61,
   "id": "8c6f7127",
   "metadata": {},
   "outputs": [
    {
     "data": {
      "text/plain": [
       "124494"
      ]
     },
     "execution_count": 61,
     "metadata": {},
     "output_type": "execute_result"
    }
   ],
   "source": [
    "len(full_devices)"
   ]
  },
  {
   "cell_type": "code",
   "execution_count": 62,
   "id": "c9d8a89d",
   "metadata": {},
   "outputs": [
    {
     "data": {
      "text/html": [
       "<div>\n",
       "<style scoped>\n",
       "    .dataframe tbody tr th:only-of-type {\n",
       "        vertical-align: middle;\n",
       "    }\n",
       "\n",
       "    .dataframe tbody tr th {\n",
       "        vertical-align: top;\n",
       "    }\n",
       "\n",
       "    .dataframe thead th {\n",
       "        text-align: right;\n",
       "    }\n",
       "</style>\n",
       "<table border=\"1\" class=\"dataframe\">\n",
       "  <thead>\n",
       "    <tr style=\"text-align: right;\">\n",
       "      <th></th>\n",
       "      <th>date</th>\n",
       "      <th>device</th>\n",
       "      <th>failure</th>\n",
       "      <th>attribute1</th>\n",
       "      <th>attribute2</th>\n",
       "      <th>attribute3</th>\n",
       "      <th>attribute4</th>\n",
       "      <th>attribute5</th>\n",
       "      <th>attribute6</th>\n",
       "      <th>attribute7</th>\n",
       "      <th>attribute8</th>\n",
       "      <th>attribute9</th>\n",
       "    </tr>\n",
       "  </thead>\n",
       "  <tbody>\n",
       "    <tr>\n",
       "      <th>0</th>\n",
       "      <td>2015-01-01</td>\n",
       "      <td>S1F01085</td>\n",
       "      <td>0</td>\n",
       "      <td>215630672</td>\n",
       "      <td>56</td>\n",
       "      <td>0</td>\n",
       "      <td>52</td>\n",
       "      <td>6</td>\n",
       "      <td>407438</td>\n",
       "      <td>0</td>\n",
       "      <td>0</td>\n",
       "      <td>7</td>\n",
       "    </tr>\n",
       "    <tr>\n",
       "      <th>1</th>\n",
       "      <td>2015-01-01</td>\n",
       "      <td>S1F0166B</td>\n",
       "      <td>0</td>\n",
       "      <td>61370680</td>\n",
       "      <td>0</td>\n",
       "      <td>3</td>\n",
       "      <td>0</td>\n",
       "      <td>6</td>\n",
       "      <td>403174</td>\n",
       "      <td>0</td>\n",
       "      <td>0</td>\n",
       "      <td>0</td>\n",
       "    </tr>\n",
       "    <tr>\n",
       "      <th>2</th>\n",
       "      <td>2015-01-01</td>\n",
       "      <td>S1F01E6Y</td>\n",
       "      <td>0</td>\n",
       "      <td>173295968</td>\n",
       "      <td>0</td>\n",
       "      <td>0</td>\n",
       "      <td>0</td>\n",
       "      <td>12</td>\n",
       "      <td>237394</td>\n",
       "      <td>0</td>\n",
       "      <td>0</td>\n",
       "      <td>0</td>\n",
       "    </tr>\n",
       "  </tbody>\n",
       "</table>\n",
       "</div>"
      ],
      "text/plain": [
       "         date    device  failure  attribute1  attribute2  attribute3  \\\n",
       "0  2015-01-01  S1F01085        0   215630672          56           0   \n",
       "1  2015-01-01  S1F0166B        0    61370680           0           3   \n",
       "2  2015-01-01  S1F01E6Y        0   173295968           0           0   \n",
       "\n",
       "   attribute4  attribute5  attribute6  attribute7  attribute8  attribute9  \n",
       "0          52           6      407438           0           0           7  \n",
       "1           0           6      403174           0           0           0  \n",
       "2           0          12      237394           0           0           0  "
      ]
     },
     "execution_count": 62,
     "metadata": {},
     "output_type": "execute_result"
    }
   ],
   "source": [
    "full_devices.head(3)"
   ]
  },
  {
   "cell_type": "code",
   "execution_count": 63,
   "id": "73a577fc",
   "metadata": {},
   "outputs": [
    {
     "data": {
      "text/plain": [
       "'2015-01-01'"
      ]
     },
     "execution_count": 63,
     "metadata": {},
     "output_type": "execute_result"
    }
   ],
   "source": [
    "full_devices['date'].min()"
   ]
  },
  {
   "cell_type": "code",
   "execution_count": 64,
   "id": "cc262ede",
   "metadata": {},
   "outputs": [
    {
     "data": {
      "text/plain": [
       "'2015-11-02'"
      ]
     },
     "execution_count": 64,
     "metadata": {},
     "output_type": "execute_result"
    }
   ],
   "source": [
    "full_devices['date'].max()"
   ]
  },
  {
   "cell_type": "code",
   "execution_count": 65,
   "id": "c828e0b7",
   "metadata": {},
   "outputs": [
    {
     "data": {
      "text/html": [
       "<div>\n",
       "<style scoped>\n",
       "    .dataframe tbody tr th:only-of-type {\n",
       "        vertical-align: middle;\n",
       "    }\n",
       "\n",
       "    .dataframe tbody tr th {\n",
       "        vertical-align: top;\n",
       "    }\n",
       "\n",
       "    .dataframe thead th {\n",
       "        text-align: right;\n",
       "    }\n",
       "</style>\n",
       "<table border=\"1\" class=\"dataframe\">\n",
       "  <thead>\n",
       "    <tr style=\"text-align: right;\">\n",
       "      <th></th>\n",
       "      <th>failure</th>\n",
       "      <th>device</th>\n",
       "    </tr>\n",
       "  </thead>\n",
       "  <tbody>\n",
       "    <tr>\n",
       "      <th>0</th>\n",
       "      <td>0</td>\n",
       "      <td>124388</td>\n",
       "    </tr>\n",
       "    <tr>\n",
       "      <th>1</th>\n",
       "      <td>1</td>\n",
       "      <td>106</td>\n",
       "    </tr>\n",
       "  </tbody>\n",
       "</table>\n",
       "</div>"
      ],
      "text/plain": [
       "   failure  device\n",
       "0        0  124388\n",
       "1        1     106"
      ]
     },
     "execution_count": 65,
     "metadata": {},
     "output_type": "execute_result"
    }
   ],
   "source": [
    "full_devices.groupby(\"failure\" , dropna=False)[\"device\"].count().reset_index()"
   ]
  },
  {
   "cell_type": "code",
   "execution_count": 66,
   "id": "12773d52",
   "metadata": {},
   "outputs": [
    {
     "data": {
      "text/plain": [
       "date          0\n",
       "device        0\n",
       "failure       0\n",
       "attribute1    0\n",
       "attribute2    0\n",
       "attribute3    0\n",
       "attribute4    0\n",
       "attribute5    0\n",
       "attribute6    0\n",
       "attribute7    0\n",
       "attribute8    0\n",
       "attribute9    0\n",
       "dtype: int64"
      ]
     },
     "execution_count": 66,
     "metadata": {},
     "output_type": "execute_result"
    }
   ],
   "source": [
    "full_devices.isnull().sum()"
   ]
  },
  {
   "cell_type": "code",
   "execution_count": 67,
   "id": "eb6e7c39",
   "metadata": {},
   "outputs": [
    {
     "data": {
      "text/html": [
       "<div>\n",
       "<style scoped>\n",
       "    .dataframe tbody tr th:only-of-type {\n",
       "        vertical-align: middle;\n",
       "    }\n",
       "\n",
       "    .dataframe tbody tr th {\n",
       "        vertical-align: top;\n",
       "    }\n",
       "\n",
       "    .dataframe thead th {\n",
       "        text-align: right;\n",
       "    }\n",
       "</style>\n",
       "<table border=\"1\" class=\"dataframe\">\n",
       "  <thead>\n",
       "    <tr style=\"text-align: right;\">\n",
       "      <th></th>\n",
       "      <th>failure</th>\n",
       "      <th>attribute1</th>\n",
       "      <th>attribute2</th>\n",
       "      <th>attribute3</th>\n",
       "      <th>attribute4</th>\n",
       "      <th>attribute5</th>\n",
       "      <th>attribute6</th>\n",
       "      <th>attribute7</th>\n",
       "      <th>attribute8</th>\n",
       "      <th>attribute9</th>\n",
       "    </tr>\n",
       "  </thead>\n",
       "  <tbody>\n",
       "    <tr>\n",
       "      <th>0</th>\n",
       "      <td>0</td>\n",
       "      <td>122384023.53</td>\n",
       "      <td>156.12</td>\n",
       "      <td>9.95</td>\n",
       "      <td>1.70</td>\n",
       "      <td>14.22</td>\n",
       "      <td>260174.25</td>\n",
       "      <td>0.27</td>\n",
       "      <td>0.27</td>\n",
       "      <td>12.44</td>\n",
       "    </tr>\n",
       "    <tr>\n",
       "      <th>1</th>\n",
       "      <td>1</td>\n",
       "      <td>127175526.92</td>\n",
       "      <td>4109.43</td>\n",
       "      <td>3.91</td>\n",
       "      <td>54.63</td>\n",
       "      <td>15.46</td>\n",
       "      <td>258303.48</td>\n",
       "      <td>30.62</td>\n",
       "      <td>30.62</td>\n",
       "      <td>23.08</td>\n",
       "    </tr>\n",
       "  </tbody>\n",
       "</table>\n",
       "</div>"
      ],
      "text/plain": [
       "   failure   attribute1  attribute2  attribute3  attribute4  attribute5  \\\n",
       "0        0 122384023.53      156.12        9.95        1.70       14.22   \n",
       "1        1 127175526.92     4109.43        3.91       54.63       15.46   \n",
       "\n",
       "   attribute6  attribute7  attribute8  attribute9  \n",
       "0   260174.25        0.27        0.27       12.44  \n",
       "1   258303.48       30.62       30.62       23.08  "
      ]
     },
     "execution_count": 67,
     "metadata": {},
     "output_type": "execute_result"
    }
   ],
   "source": [
    "full_devices.groupby(\"failure\" , dropna=False)[\"attribute1\", \"attribute2\", \"attribute3\", \n",
    "                                               \"attribute4\", \"attribute5\", \"attribute6\",\n",
    "                                               \"attribute7\",\"attribute8\", \"attribute9\"].mean().reset_index()"
   ]
  },
  {
   "cell_type": "code",
   "execution_count": 68,
   "id": "15eb2ff1",
   "metadata": {},
   "outputs": [
    {
     "data": {
      "text/html": [
       "<div>\n",
       "<style scoped>\n",
       "    .dataframe tbody tr th:only-of-type {\n",
       "        vertical-align: middle;\n",
       "    }\n",
       "\n",
       "    .dataframe tbody tr th {\n",
       "        vertical-align: top;\n",
       "    }\n",
       "\n",
       "    .dataframe thead th {\n",
       "        text-align: right;\n",
       "    }\n",
       "</style>\n",
       "<table border=\"1\" class=\"dataframe\">\n",
       "  <thead>\n",
       "    <tr style=\"text-align: right;\">\n",
       "      <th></th>\n",
       "      <th>attribute3</th>\n",
       "      <th>failure</th>\n",
       "      <th>device</th>\n",
       "    </tr>\n",
       "  </thead>\n",
       "  <tbody>\n",
       "    <tr>\n",
       "      <th>0</th>\n",
       "      <td>0</td>\n",
       "      <td>0</td>\n",
       "      <td>115264</td>\n",
       "    </tr>\n",
       "    <tr>\n",
       "      <th>1</th>\n",
       "      <td>0</td>\n",
       "      <td>1</td>\n",
       "      <td>95</td>\n",
       "    </tr>\n",
       "    <tr>\n",
       "      <th>2</th>\n",
       "      <td>1</td>\n",
       "      <td>0</td>\n",
       "      <td>3269</td>\n",
       "    </tr>\n",
       "    <tr>\n",
       "      <th>3</th>\n",
       "      <td>1</td>\n",
       "      <td>1</td>\n",
       "      <td>5</td>\n",
       "    </tr>\n",
       "    <tr>\n",
       "      <th>4</th>\n",
       "      <td>2</td>\n",
       "      <td>0</td>\n",
       "      <td>747</td>\n",
       "    </tr>\n",
       "    <tr>\n",
       "      <th>...</th>\n",
       "      <td>...</td>\n",
       "      <td>...</td>\n",
       "      <td>...</td>\n",
       "    </tr>\n",
       "    <tr>\n",
       "      <th>49</th>\n",
       "      <td>1326</td>\n",
       "      <td>0</td>\n",
       "      <td>5</td>\n",
       "    </tr>\n",
       "    <tr>\n",
       "      <th>50</th>\n",
       "      <td>1331</td>\n",
       "      <td>0</td>\n",
       "      <td>240</td>\n",
       "    </tr>\n",
       "    <tr>\n",
       "      <th>51</th>\n",
       "      <td>2112</td>\n",
       "      <td>0</td>\n",
       "      <td>6</td>\n",
       "    </tr>\n",
       "    <tr>\n",
       "      <th>52</th>\n",
       "      <td>2693</td>\n",
       "      <td>0</td>\n",
       "      <td>179</td>\n",
       "    </tr>\n",
       "    <tr>\n",
       "      <th>53</th>\n",
       "      <td>24929</td>\n",
       "      <td>0</td>\n",
       "      <td>4</td>\n",
       "    </tr>\n",
       "  </tbody>\n",
       "</table>\n",
       "<p>54 rows × 3 columns</p>\n",
       "</div>"
      ],
      "text/plain": [
       "    attribute3  failure  device\n",
       "0            0        0  115264\n",
       "1            0        1      95\n",
       "2            1        0    3269\n",
       "3            1        1       5\n",
       "4            2        0     747\n",
       "..         ...      ...     ...\n",
       "49        1326        0       5\n",
       "50        1331        0     240\n",
       "51        2112        0       6\n",
       "52        2693        0     179\n",
       "53       24929        0       4\n",
       "\n",
       "[54 rows x 3 columns]"
      ]
     },
     "execution_count": 68,
     "metadata": {},
     "output_type": "execute_result"
    }
   ],
   "source": [
    "full_devices.groupby([\"attribute3\", 'failure'] , dropna=False)[\"device\"].count().reset_index()"
   ]
  },
  {
   "cell_type": "markdown",
   "id": "2e4f5c66",
   "metadata": {},
   "source": [
    "## 2.1) Criar novas features"
   ]
  },
  {
   "cell_type": "code",
   "execution_count": 12,
   "id": "749ad2dd",
   "metadata": {},
   "outputs": [],
   "source": [
    "def create_groups(df, var, target):\n",
    "    #calculate the iv\n",
    "    iv, data = calc_iv(df, var, target)\n",
    "    #create categories\n",
    "    new_name = var + \"_g\"\n",
    "    data[new_name] = pd.cut(x=data['iv'], bins=[-10, 0.02, 0.1, 0.3, 0.5, 1],\n",
    "                        labels=['useless', 'weak', 'medium',\n",
    "                                'strong', 'suspiciously_good'])\n",
    "     \n",
    "    df_final = pd.merge(df, data[['value', new_name]], \n",
    "                        left_on = [var], right_on = ['value'] )\n",
    "    \n",
    "    df_final = df_final.drop(columns=['value'])\n",
    "    warnings.filterwarnings('ignore')\n",
    "    return data, iv, df_final "
   ]
  },
  {
   "cell_type": "code",
   "execution_count": 69,
   "id": "4e86a185",
   "metadata": {},
   "outputs": [],
   "source": [
    "#data2, iv, full_devices  =  create_groups(full_devices, 'attribute2', 'failure')\n",
    "#data3, iv, full_devices  =  create_groups(full_devices, 'attribute3', 'failure')"
   ]
  },
  {
   "cell_type": "markdown",
   "id": "d9e389f1",
   "metadata": {},
   "source": [
    "**Nota**: eu iria testar a categorização por IV, mas abandonei qdo percebi a relação crescente entre atributos e variável resposta."
   ]
  },
  {
   "cell_type": "code",
   "execution_count": 79,
   "id": "cc5dab09",
   "metadata": {},
   "outputs": [],
   "source": [
    "full_devices['attribute3_g'] = pd.cut(x=full_devices['attribute3'], bins=[-10, 0, 100000],\n",
    "                    labels=['igual 0', 'maior 0'])"
   ]
  },
  {
   "cell_type": "code",
   "execution_count": 80,
   "id": "a62bab9d",
   "metadata": {},
   "outputs": [
    {
     "data": {
      "text/html": [
       "<div>\n",
       "<style scoped>\n",
       "    .dataframe tbody tr th:only-of-type {\n",
       "        vertical-align: middle;\n",
       "    }\n",
       "\n",
       "    .dataframe tbody tr th {\n",
       "        vertical-align: top;\n",
       "    }\n",
       "\n",
       "    .dataframe thead th {\n",
       "        text-align: right;\n",
       "    }\n",
       "</style>\n",
       "<table border=\"1\" class=\"dataframe\">\n",
       "  <thead>\n",
       "    <tr style=\"text-align: right;\">\n",
       "      <th></th>\n",
       "      <th>attribute3_g</th>\n",
       "      <th>failure</th>\n",
       "      <th>device</th>\n",
       "    </tr>\n",
       "  </thead>\n",
       "  <tbody>\n",
       "    <tr>\n",
       "      <th>0</th>\n",
       "      <td>igual 0</td>\n",
       "      <td>0</td>\n",
       "      <td>115264</td>\n",
       "    </tr>\n",
       "    <tr>\n",
       "      <th>1</th>\n",
       "      <td>igual 0</td>\n",
       "      <td>1</td>\n",
       "      <td>95</td>\n",
       "    </tr>\n",
       "    <tr>\n",
       "      <th>2</th>\n",
       "      <td>maior 0</td>\n",
       "      <td>0</td>\n",
       "      <td>9124</td>\n",
       "    </tr>\n",
       "    <tr>\n",
       "      <th>3</th>\n",
       "      <td>maior 0</td>\n",
       "      <td>1</td>\n",
       "      <td>11</td>\n",
       "    </tr>\n",
       "  </tbody>\n",
       "</table>\n",
       "</div>"
      ],
      "text/plain": [
       "  attribute3_g  failure  device\n",
       "0      igual 0        0  115264\n",
       "1      igual 0        1      95\n",
       "2      maior 0        0    9124\n",
       "3      maior 0        1      11"
      ]
     },
     "execution_count": 80,
     "metadata": {},
     "output_type": "execute_result"
    }
   ],
   "source": [
    "full_devices.groupby([\"attribute3_g\", 'failure'] , dropna=False)[\"device\"].count().reset_index()"
   ]
  },
  {
   "cell_type": "markdown",
   "id": "499f355e",
   "metadata": {},
   "source": [
    "## 2.2) analise da correlção entre as variáveis  "
   ]
  },
  {
   "cell_type": "code",
   "execution_count": 84,
   "id": "1d32cbd1",
   "metadata": {},
   "outputs": [
    {
     "data": {
      "text/plain": [
       "<Axes: >"
      ]
     },
     "execution_count": 84,
     "metadata": {},
     "output_type": "execute_result"
    },
    {
     "data": {
      "image/png": "[encoded data removed]",
      "text/plain": [
       "<Figure size 640x480 with 2 Axes>"
      ]
     },
     "metadata": {},
     "output_type": "display_data"
    }
   ],
   "source": [
    "plot = sns.heatmap(full_devices.corr(), annot = True, fmt=\".1f\", linewidths=.6)\n",
    "plot"
   ]
  },
  {
   "cell_type": "code",
   "execution_count": 85,
   "id": "c8a2c6d2",
   "metadata": {},
   "outputs": [
    {
     "data": {
      "text/plain": [
       "failure          Axes(0.125,0.747241;0.227941x0.132759)\n",
       "attribute1    Axes(0.398529,0.747241;0.227941x0.132759)\n",
       "attribute2    Axes(0.672059,0.747241;0.227941x0.132759)\n",
       "attribute3       Axes(0.125,0.587931;0.227941x0.132759)\n",
       "attribute4    Axes(0.398529,0.587931;0.227941x0.132759)\n",
       "attribute5    Axes(0.672059,0.587931;0.227941x0.132759)\n",
       "attribute6       Axes(0.125,0.428621;0.227941x0.132759)\n",
       "attribute7    Axes(0.398529,0.428621;0.227941x0.132759)\n",
       "attribute8    Axes(0.672059,0.428621;0.227941x0.132759)\n",
       "attribute9        Axes(0.125,0.26931;0.227941x0.132759)\n",
       "dtype: object"
      ]
     },
     "execution_count": 85,
     "metadata": {},
     "output_type": "execute_result"
    },
    {
     "data": {
      "image/png": "[encoded data removed]",
      "text/plain": [
       "<Figure size 1400x1000 with 15 Axes>"
      ]
     },
     "metadata": {},
     "output_type": "display_data"
    }
   ],
   "source": [
    "full_devices.plot(kind= 'box' , subplots=True, layout=(5,3),figsize=(14,10))"
   ]
  },
  {
   "cell_type": "code",
   "execution_count": 90,
   "id": "56fc3996",
   "metadata": {},
   "outputs": [],
   "source": [
    "# Separa decices com e sem falha"
   ]
  },
  {
   "cell_type": "code",
   "execution_count": 86,
   "id": "f7bc8d33",
   "metadata": {},
   "outputs": [],
   "source": [
    "failure = full_devices[full_devices.failure == 1] "
   ]
  },
  {
   "cell_type": "code",
   "execution_count": 181,
   "id": "5af2a177",
   "metadata": {},
   "outputs": [],
   "source": [
    "failure_devices = full_devices[full_devices.device.isin(failure.device)].reset_index()\n",
    "no_failure_devices = full_devices[~full_devices.device.isin(failure.device)].reset_index()"
   ]
  },
  {
   "cell_type": "code",
   "execution_count": 91,
   "id": "bbc491dd",
   "metadata": {},
   "outputs": [
    {
     "data": {
      "text/plain": [
       "attribute2       Axes(0.125,0.747241;0.227941x0.132759)\n",
       "attribute4    Axes(0.398529,0.747241;0.227941x0.132759)\n",
       "attribute5    Axes(0.672059,0.747241;0.227941x0.132759)\n",
       "attribute7       Axes(0.125,0.587931;0.227941x0.132759)\n",
       "attribute8    Axes(0.398529,0.587931;0.227941x0.132759)\n",
       "attribute9    Axes(0.672059,0.587931;0.227941x0.132759)\n",
       "dtype: object"
      ]
     },
     "execution_count": 91,
     "metadata": {},
     "output_type": "execute_result"
    },
    {
     "data": {
      "image/png": "[encoded data removed]",
      "text/plain": [
       "<Figure size 1400x1000 with 15 Axes>"
      ]
     },
     "metadata": {},
     "output_type": "display_data"
    }
   ],
   "source": [
    "failure_devices[['attribute2', 'attribute4', 'attribute5', \n",
    "                 'attribute7', 'attribute8','attribute9']].plot(kind= 'box' , subplots=True, layout=(5,3),figsize=(14,10))"
   ]
  },
  {
   "cell_type": "code",
   "execution_count": 92,
   "id": "918f48a1",
   "metadata": {},
   "outputs": [
    {
     "data": {
      "text/plain": [
       "attribute2       Axes(0.125,0.747241;0.227941x0.132759)\n",
       "attribute4    Axes(0.398529,0.747241;0.227941x0.132759)\n",
       "attribute5    Axes(0.672059,0.747241;0.227941x0.132759)\n",
       "attribute7       Axes(0.125,0.587931;0.227941x0.132759)\n",
       "attribute8    Axes(0.398529,0.587931;0.227941x0.132759)\n",
       "attribute9    Axes(0.672059,0.587931;0.227941x0.132759)\n",
       "dtype: object"
      ]
     },
     "execution_count": 92,
     "metadata": {},
     "output_type": "execute_result"
    },
    {
     "data": {
      "image/png": "[encoded data removed]",
      "text/plain": [
       "<Figure size 1400x1000 with 15 Axes>"
      ]
     },
     "metadata": {},
     "output_type": "display_data"
    }
   ],
   "source": [
    "no_failure_devices[['attribute2', 'attribute4', 'attribute5', \n",
    "                 'attribute7', 'attribute8','attribute9']].plot(kind= 'box' , subplots=True, layout=(5,3),figsize=(14,10))"
   ]
  },
  {
   "cell_type": "code",
   "execution_count": null,
   "id": "9ce1cd82",
   "metadata": {},
   "outputs": [],
   "source": []
  },
  {
   "cell_type": "markdown",
   "id": "f94b1903",
   "metadata": {},
   "source": [
    "# 3) Modelagem "
   ]
  },
  {
   "cell_type": "code",
   "execution_count": 118,
   "id": "dc2169ac",
   "metadata": {},
   "outputs": [],
   "source": [
    "from pycaret.classification import *\n",
    "from pycaret.datasets import get_data\n",
    "import pandas as pd\n",
    "import random"
   ]
  },
  {
   "cell_type": "markdown",
   "id": "6021dec7",
   "metadata": {},
   "source": [
    "Como exitem poucos eventos de falham, inicialmente iremos apenas os dispositivos que tiveram falha "
   ]
  },
  {
   "cell_type": "code",
   "execution_count": 132,
   "id": "ea2bd915",
   "metadata": {},
   "outputs": [],
   "source": [
    "failure_devices_model = failure_devices[['attribute2', 'attribute4', 'attribute5', \n",
    "                 'attribute3_g', 'attribute8','attribute9' , 'failure' ]]"
   ]
  },
  {
   "cell_type": "code",
   "execution_count": 139,
   "id": "899df3f9",
   "metadata": {},
   "outputs": [
    {
     "data": {
      "text/html": [
       "<div>\n",
       "<style scoped>\n",
       "    .dataframe tbody tr th:only-of-type {\n",
       "        vertical-align: middle;\n",
       "    }\n",
       "\n",
       "    .dataframe tbody tr th {\n",
       "        vertical-align: top;\n",
       "    }\n",
       "\n",
       "    .dataframe thead th {\n",
       "        text-align: right;\n",
       "    }\n",
       "</style>\n",
       "<table border=\"1\" class=\"dataframe\">\n",
       "  <thead>\n",
       "    <tr style=\"text-align: right;\">\n",
       "      <th></th>\n",
       "      <th>failure</th>\n",
       "      <th>attribute2</th>\n",
       "    </tr>\n",
       "  </thead>\n",
       "  <tbody>\n",
       "    <tr>\n",
       "      <th>0</th>\n",
       "      <td>0</td>\n",
       "      <td>10607</td>\n",
       "    </tr>\n",
       "    <tr>\n",
       "      <th>1</th>\n",
       "      <td>1</td>\n",
       "      <td>106</td>\n",
       "    </tr>\n",
       "  </tbody>\n",
       "</table>\n",
       "</div>"
      ],
      "text/plain": [
       "   failure  attribute2\n",
       "0        0       10607\n",
       "1        1         106"
      ]
     },
     "execution_count": 139,
     "metadata": {},
     "output_type": "execute_result"
    }
   ],
   "source": [
    "failure_devices_model.groupby(['failure'] , dropna=False)[\"attribute2\"].count().reset_index()"
   ]
  },
  {
   "cell_type": "code",
   "execution_count": 133,
   "id": "0c5f874c",
   "metadata": {},
   "outputs": [
    {
     "data": {
      "text/html": [
       "<style type=\"text/css\">\n",
       "#T_d7167_row10_col1 {\n",
       "  background-color: lightgreen;\n",
       "}\n",
       "</style>\n",
       "<table id=\"T_d7167\">\n",
       "  <thead>\n",
       "    <tr>\n",
       "      <th class=\"blank level0\" >&nbsp;</th>\n",
       "      <th id=\"T_d7167_level0_col0\" class=\"col_heading level0 col0\" >Description</th>\n",
       "      <th id=\"T_d7167_level0_col1\" class=\"col_heading level0 col1\" >Value</th>\n",
       "    </tr>\n",
       "  </thead>\n",
       "  <tbody>\n",
       "    <tr>\n",
       "      <th id=\"T_d7167_level0_row0\" class=\"row_heading level0 row0\" >0</th>\n",
       "      <td id=\"T_d7167_row0_col0\" class=\"data row0 col0\" >Session id</td>\n",
       "      <td id=\"T_d7167_row0_col1\" class=\"data row0 col1\" >100</td>\n",
       "    </tr>\n",
       "    <tr>\n",
       "      <th id=\"T_d7167_level0_row1\" class=\"row_heading level0 row1\" >1</th>\n",
       "      <td id=\"T_d7167_row1_col0\" class=\"data row1 col0\" >Target</td>\n",
       "      <td id=\"T_d7167_row1_col1\" class=\"data row1 col1\" >failure</td>\n",
       "    </tr>\n",
       "    <tr>\n",
       "      <th id=\"T_d7167_level0_row2\" class=\"row_heading level0 row2\" >2</th>\n",
       "      <td id=\"T_d7167_row2_col0\" class=\"data row2 col0\" >Target type</td>\n",
       "      <td id=\"T_d7167_row2_col1\" class=\"data row2 col1\" >Binary</td>\n",
       "    </tr>\n",
       "    <tr>\n",
       "      <th id=\"T_d7167_level0_row3\" class=\"row_heading level0 row3\" >3</th>\n",
       "      <td id=\"T_d7167_row3_col0\" class=\"data row3 col0\" >Original data shape</td>\n",
       "      <td id=\"T_d7167_row3_col1\" class=\"data row3 col1\" >(10713, 7)</td>\n",
       "    </tr>\n",
       "    <tr>\n",
       "      <th id=\"T_d7167_level0_row4\" class=\"row_heading level0 row4\" >4</th>\n",
       "      <td id=\"T_d7167_row4_col0\" class=\"data row4 col0\" >Transformed data shape</td>\n",
       "      <td id=\"T_d7167_row4_col1\" class=\"data row4 col1\" >(10713, 7)</td>\n",
       "    </tr>\n",
       "    <tr>\n",
       "      <th id=\"T_d7167_level0_row5\" class=\"row_heading level0 row5\" >5</th>\n",
       "      <td id=\"T_d7167_row5_col0\" class=\"data row5 col0\" >Transformed train set shape</td>\n",
       "      <td id=\"T_d7167_row5_col1\" class=\"data row5 col1\" >(7499, 7)</td>\n",
       "    </tr>\n",
       "    <tr>\n",
       "      <th id=\"T_d7167_level0_row6\" class=\"row_heading level0 row6\" >6</th>\n",
       "      <td id=\"T_d7167_row6_col0\" class=\"data row6 col0\" >Transformed test set shape</td>\n",
       "      <td id=\"T_d7167_row6_col1\" class=\"data row6 col1\" >(3214, 7)</td>\n",
       "    </tr>\n",
       "    <tr>\n",
       "      <th id=\"T_d7167_level0_row7\" class=\"row_heading level0 row7\" >7</th>\n",
       "      <td id=\"T_d7167_row7_col0\" class=\"data row7 col0\" >Ordinal features</td>\n",
       "      <td id=\"T_d7167_row7_col1\" class=\"data row7 col1\" >1</td>\n",
       "    </tr>\n",
       "    <tr>\n",
       "      <th id=\"T_d7167_level0_row8\" class=\"row_heading level0 row8\" >8</th>\n",
       "      <td id=\"T_d7167_row8_col0\" class=\"data row8 col0\" >Numeric features</td>\n",
       "      <td id=\"T_d7167_row8_col1\" class=\"data row8 col1\" >5</td>\n",
       "    </tr>\n",
       "    <tr>\n",
       "      <th id=\"T_d7167_level0_row9\" class=\"row_heading level0 row9\" >9</th>\n",
       "      <td id=\"T_d7167_row9_col0\" class=\"data row9 col0\" >Categorical features</td>\n",
       "      <td id=\"T_d7167_row9_col1\" class=\"data row9 col1\" >1</td>\n",
       "    </tr>\n",
       "    <tr>\n",
       "      <th id=\"T_d7167_level0_row10\" class=\"row_heading level0 row10\" >10</th>\n",
       "      <td id=\"T_d7167_row10_col0\" class=\"data row10 col0\" >Preprocess</td>\n",
       "      <td id=\"T_d7167_row10_col1\" class=\"data row10 col1\" >True</td>\n",
       "    </tr>\n",
       "    <tr>\n",
       "      <th id=\"T_d7167_level0_row11\" class=\"row_heading level0 row11\" >11</th>\n",
       "      <td id=\"T_d7167_row11_col0\" class=\"data row11 col0\" >Imputation type</td>\n",
       "      <td id=\"T_d7167_row11_col1\" class=\"data row11 col1\" >simple</td>\n",
       "    </tr>\n",
       "    <tr>\n",
       "      <th id=\"T_d7167_level0_row12\" class=\"row_heading level0 row12\" >12</th>\n",
       "      <td id=\"T_d7167_row12_col0\" class=\"data row12 col0\" >Numeric imputation</td>\n",
       "      <td id=\"T_d7167_row12_col1\" class=\"data row12 col1\" >mean</td>\n",
       "    </tr>\n",
       "    <tr>\n",
       "      <th id=\"T_d7167_level0_row13\" class=\"row_heading level0 row13\" >13</th>\n",
       "      <td id=\"T_d7167_row13_col0\" class=\"data row13 col0\" >Categorical imputation</td>\n",
       "      <td id=\"T_d7167_row13_col1\" class=\"data row13 col1\" >mode</td>\n",
       "    </tr>\n",
       "    <tr>\n",
       "      <th id=\"T_d7167_level0_row14\" class=\"row_heading level0 row14\" >14</th>\n",
       "      <td id=\"T_d7167_row14_col0\" class=\"data row14 col0\" >Maximum one-hot encoding</td>\n",
       "      <td id=\"T_d7167_row14_col1\" class=\"data row14 col1\" >25</td>\n",
       "    </tr>\n",
       "    <tr>\n",
       "      <th id=\"T_d7167_level0_row15\" class=\"row_heading level0 row15\" >15</th>\n",
       "      <td id=\"T_d7167_row15_col0\" class=\"data row15 col0\" >Encoding method</td>\n",
       "      <td id=\"T_d7167_row15_col1\" class=\"data row15 col1\" >None</td>\n",
       "    </tr>\n",
       "    <tr>\n",
       "      <th id=\"T_d7167_level0_row16\" class=\"row_heading level0 row16\" >16</th>\n",
       "      <td id=\"T_d7167_row16_col0\" class=\"data row16 col0\" >Fold Generator</td>\n",
       "      <td id=\"T_d7167_row16_col1\" class=\"data row16 col1\" >StratifiedKFold</td>\n",
       "    </tr>\n",
       "    <tr>\n",
       "      <th id=\"T_d7167_level0_row17\" class=\"row_heading level0 row17\" >17</th>\n",
       "      <td id=\"T_d7167_row17_col0\" class=\"data row17 col0\" >Fold Number</td>\n",
       "      <td id=\"T_d7167_row17_col1\" class=\"data row17 col1\" >10</td>\n",
       "    </tr>\n",
       "    <tr>\n",
       "      <th id=\"T_d7167_level0_row18\" class=\"row_heading level0 row18\" >18</th>\n",
       "      <td id=\"T_d7167_row18_col0\" class=\"data row18 col0\" >CPU Jobs</td>\n",
       "      <td id=\"T_d7167_row18_col1\" class=\"data row18 col1\" >-1</td>\n",
       "    </tr>\n",
       "    <tr>\n",
       "      <th id=\"T_d7167_level0_row19\" class=\"row_heading level0 row19\" >19</th>\n",
       "      <td id=\"T_d7167_row19_col0\" class=\"data row19 col0\" >Use GPU</td>\n",
       "      <td id=\"T_d7167_row19_col1\" class=\"data row19 col1\" >False</td>\n",
       "    </tr>\n",
       "    <tr>\n",
       "      <th id=\"T_d7167_level0_row20\" class=\"row_heading level0 row20\" >20</th>\n",
       "      <td id=\"T_d7167_row20_col0\" class=\"data row20 col0\" >Log Experiment</td>\n",
       "      <td id=\"T_d7167_row20_col1\" class=\"data row20 col1\" >False</td>\n",
       "    </tr>\n",
       "    <tr>\n",
       "      <th id=\"T_d7167_level0_row21\" class=\"row_heading level0 row21\" >21</th>\n",
       "      <td id=\"T_d7167_row21_col0\" class=\"data row21 col0\" >Experiment Name</td>\n",
       "      <td id=\"T_d7167_row21_col1\" class=\"data row21 col1\" >clf-default-name</td>\n",
       "    </tr>\n",
       "    <tr>\n",
       "      <th id=\"T_d7167_level0_row22\" class=\"row_heading level0 row22\" >22</th>\n",
       "      <td id=\"T_d7167_row22_col0\" class=\"data row22 col0\" >USI</td>\n",
       "      <td id=\"T_d7167_row22_col1\" class=\"data row22 col1\" >60d0</td>\n",
       "    </tr>\n",
       "  </tbody>\n",
       "</table>\n"
      ],
      "text/plain": [
       "<pandas.io.formats.style.Styler at 0x1ffaf3dae90>"
      ]
     },
     "metadata": {},
     "output_type": "display_data"
    }
   ],
   "source": [
    "model_clf01 = setup(data = failure_devices_model, target = 'failure', session_id=100)"
   ]
  },
  {
   "cell_type": "code",
   "execution_count": 134,
   "id": "9b2cf9bf",
   "metadata": {},
   "outputs": [
    {
     "data": {
      "text/html": [],
      "text/plain": [
       "<IPython.core.display.HTML object>"
      ]
     },
     "metadata": {},
     "output_type": "display_data"
    },
    {
     "data": {
      "text/html": [
       "<style type=\"text/css\">\n",
       "#T_616a9 th {\n",
       "  text-align: left;\n",
       "}\n",
       "#T_616a9_row0_col0, #T_616a9_row0_col2, #T_616a9_row0_col3, #T_616a9_row0_col4, #T_616a9_row0_col5, #T_616a9_row0_col6, #T_616a9_row0_col7, #T_616a9_row1_col0, #T_616a9_row1_col2, #T_616a9_row1_col3, #T_616a9_row1_col4, #T_616a9_row1_col5, #T_616a9_row1_col6, #T_616a9_row1_col7, #T_616a9_row2_col0, #T_616a9_row2_col1, #T_616a9_row2_col2, #T_616a9_row2_col3, #T_616a9_row2_col4, #T_616a9_row2_col5, #T_616a9_row2_col6, #T_616a9_row2_col7, #T_616a9_row3_col0, #T_616a9_row3_col1, #T_616a9_row3_col2, #T_616a9_row3_col3, #T_616a9_row3_col4, #T_616a9_row3_col5, #T_616a9_row3_col6, #T_616a9_row3_col7, #T_616a9_row4_col0, #T_616a9_row4_col1, #T_616a9_row4_col2, #T_616a9_row4_col3, #T_616a9_row4_col4, #T_616a9_row4_col5, #T_616a9_row4_col6, #T_616a9_row4_col7, #T_616a9_row5_col0, #T_616a9_row5_col1, #T_616a9_row5_col2, #T_616a9_row5_col3, #T_616a9_row5_col5, #T_616a9_row5_col6, #T_616a9_row6_col0, #T_616a9_row6_col1, #T_616a9_row6_col2, #T_616a9_row6_col3, #T_616a9_row6_col4, #T_616a9_row6_col5, #T_616a9_row6_col6, #T_616a9_row6_col7, #T_616a9_row7_col0, #T_616a9_row7_col1, #T_616a9_row7_col2, #T_616a9_row7_col3, #T_616a9_row7_col4, #T_616a9_row7_col5, #T_616a9_row7_col6, #T_616a9_row7_col7, #T_616a9_row8_col0, #T_616a9_row8_col1, #T_616a9_row8_col2, #T_616a9_row8_col3, #T_616a9_row8_col4, #T_616a9_row8_col5, #T_616a9_row8_col6, #T_616a9_row8_col7, #T_616a9_row9_col0, #T_616a9_row9_col1, #T_616a9_row9_col2, #T_616a9_row9_col3, #T_616a9_row9_col4, #T_616a9_row9_col5, #T_616a9_row9_col6, #T_616a9_row9_col7, #T_616a9_row10_col0, #T_616a9_row10_col1, #T_616a9_row10_col2, #T_616a9_row10_col3, #T_616a9_row10_col4, #T_616a9_row10_col5, #T_616a9_row10_col6, #T_616a9_row10_col7, #T_616a9_row11_col0, #T_616a9_row11_col1, #T_616a9_row11_col3, #T_616a9_row11_col4, #T_616a9_row11_col5, #T_616a9_row11_col7, #T_616a9_row12_col0, #T_616a9_row12_col1, #T_616a9_row12_col2, #T_616a9_row12_col4, #T_616a9_row12_col6, #T_616a9_row12_col7, #T_616a9_row13_col0, #T_616a9_row13_col1, #T_616a9_row13_col2, #T_616a9_row13_col4, #T_616a9_row13_col5, #T_616a9_row13_col6, #T_616a9_row13_col7 {\n",
       "  text-align: left;\n",
       "}\n",
       "#T_616a9_row0_col1, #T_616a9_row1_col1, #T_616a9_row5_col4, #T_616a9_row5_col7, #T_616a9_row11_col2, #T_616a9_row11_col6, #T_616a9_row12_col3, #T_616a9_row12_col5, #T_616a9_row13_col3 {\n",
       "  text-align: left;\n",
       "  background-color: yellow;\n",
       "}\n",
       "#T_616a9_row0_col8, #T_616a9_row1_col8, #T_616a9_row2_col8, #T_616a9_row3_col8, #T_616a9_row4_col8, #T_616a9_row5_col8, #T_616a9_row7_col8, #T_616a9_row8_col8, #T_616a9_row9_col8, #T_616a9_row10_col8, #T_616a9_row11_col8, #T_616a9_row12_col8, #T_616a9_row13_col8 {\n",
       "  text-align: left;\n",
       "  background-color: lightgrey;\n",
       "}\n",
       "#T_616a9_row6_col8 {\n",
       "  text-align: left;\n",
       "  background-color: yellow;\n",
       "  background-color: lightgrey;\n",
       "}\n",
       "</style>\n",
       "<table id=\"T_616a9\">\n",
       "  <thead>\n",
       "    <tr>\n",
       "      <th class=\"blank level0\" >&nbsp;</th>\n",
       "      <th id=\"T_616a9_level0_col0\" class=\"col_heading level0 col0\" >Model</th>\n",
       "      <th id=\"T_616a9_level0_col1\" class=\"col_heading level0 col1\" >Accuracy</th>\n",
       "      <th id=\"T_616a9_level0_col2\" class=\"col_heading level0 col2\" >AUC</th>\n",
       "      <th id=\"T_616a9_level0_col3\" class=\"col_heading level0 col3\" >Recall</th>\n",
       "      <th id=\"T_616a9_level0_col4\" class=\"col_heading level0 col4\" >Prec.</th>\n",
       "      <th id=\"T_616a9_level0_col5\" class=\"col_heading level0 col5\" >F1</th>\n",
       "      <th id=\"T_616a9_level0_col6\" class=\"col_heading level0 col6\" >Kappa</th>\n",
       "      <th id=\"T_616a9_level0_col7\" class=\"col_heading level0 col7\" >MCC</th>\n",
       "      <th id=\"T_616a9_level0_col8\" class=\"col_heading level0 col8\" >TT (Sec)</th>\n",
       "    </tr>\n",
       "  </thead>\n",
       "  <tbody>\n",
       "    <tr>\n",
       "      <th id=\"T_616a9_level0_row0\" class=\"row_heading level0 row0\" >lr</th>\n",
       "      <td id=\"T_616a9_row0_col0\" class=\"data row0 col0\" >Logistic Regression</td>\n",
       "      <td id=\"T_616a9_row0_col1\" class=\"data row0 col1\" >0.9904</td>\n",
       "      <td id=\"T_616a9_row0_col2\" class=\"data row0 col2\" >0.7376</td>\n",
       "      <td id=\"T_616a9_row0_col3\" class=\"data row0 col3\" >0.0643</td>\n",
       "      <td id=\"T_616a9_row0_col4\" class=\"data row0 col4\" >0.3167</td>\n",
       "      <td id=\"T_616a9_row0_col5\" class=\"data row0 col5\" >0.1036</td>\n",
       "      <td id=\"T_616a9_row0_col6\" class=\"data row0 col6\" >0.1023</td>\n",
       "      <td id=\"T_616a9_row0_col7\" class=\"data row0 col7\" >0.1376</td>\n",
       "      <td id=\"T_616a9_row0_col8\" class=\"data row0 col8\" >0.0440</td>\n",
       "    </tr>\n",
       "    <tr>\n",
       "      <th id=\"T_616a9_level0_row1\" class=\"row_heading level0 row1\" >ridge</th>\n",
       "      <td id=\"T_616a9_row1_col0\" class=\"data row1 col0\" >Ridge Classifier</td>\n",
       "      <td id=\"T_616a9_row1_col1\" class=\"data row1 col1\" >0.9904</td>\n",
       "      <td id=\"T_616a9_row1_col2\" class=\"data row1 col2\" >0.0000</td>\n",
       "      <td id=\"T_616a9_row1_col3\" class=\"data row1 col3\" >0.0250</td>\n",
       "      <td id=\"T_616a9_row1_col4\" class=\"data row1 col4\" >0.2000</td>\n",
       "      <td id=\"T_616a9_row1_col5\" class=\"data row1 col5\" >0.0444</td>\n",
       "      <td id=\"T_616a9_row1_col6\" class=\"data row1 col6\" >0.0441</td>\n",
       "      <td id=\"T_616a9_row1_col7\" class=\"data row1 col7\" >0.0704</td>\n",
       "      <td id=\"T_616a9_row1_col8\" class=\"data row1 col8\" >0.0330</td>\n",
       "    </tr>\n",
       "    <tr>\n",
       "      <th id=\"T_616a9_level0_row2\" class=\"row_heading level0 row2\" >knn</th>\n",
       "      <td id=\"T_616a9_row2_col0\" class=\"data row2 col0\" >K Neighbors Classifier</td>\n",
       "      <td id=\"T_616a9_row2_col1\" class=\"data row2 col1\" >0.9901</td>\n",
       "      <td id=\"T_616a9_row2_col2\" class=\"data row2 col2\" >0.5315</td>\n",
       "      <td id=\"T_616a9_row2_col3\" class=\"data row2 col3\" >0.0000</td>\n",
       "      <td id=\"T_616a9_row2_col4\" class=\"data row2 col4\" >0.0000</td>\n",
       "      <td id=\"T_616a9_row2_col5\" class=\"data row2 col5\" >0.0000</td>\n",
       "      <td id=\"T_616a9_row2_col6\" class=\"data row2 col6\" >0.0000</td>\n",
       "      <td id=\"T_616a9_row2_col7\" class=\"data row2 col7\" >0.0000</td>\n",
       "      <td id=\"T_616a9_row2_col8\" class=\"data row2 col8\" >0.0580</td>\n",
       "    </tr>\n",
       "    <tr>\n",
       "      <th id=\"T_616a9_level0_row3\" class=\"row_heading level0 row3\" >dummy</th>\n",
       "      <td id=\"T_616a9_row3_col0\" class=\"data row3 col0\" >Dummy Classifier</td>\n",
       "      <td id=\"T_616a9_row3_col1\" class=\"data row3 col1\" >0.9901</td>\n",
       "      <td id=\"T_616a9_row3_col2\" class=\"data row3 col2\" >0.5000</td>\n",
       "      <td id=\"T_616a9_row3_col3\" class=\"data row3 col3\" >0.0000</td>\n",
       "      <td id=\"T_616a9_row3_col4\" class=\"data row3 col4\" >0.0000</td>\n",
       "      <td id=\"T_616a9_row3_col5\" class=\"data row3 col5\" >0.0000</td>\n",
       "      <td id=\"T_616a9_row3_col6\" class=\"data row3 col6\" >0.0000</td>\n",
       "      <td id=\"T_616a9_row3_col7\" class=\"data row3 col7\" >0.0000</td>\n",
       "      <td id=\"T_616a9_row3_col8\" class=\"data row3 col8\" >0.0500</td>\n",
       "    </tr>\n",
       "    <tr>\n",
       "      <th id=\"T_616a9_level0_row4\" class=\"row_heading level0 row4\" >ada</th>\n",
       "      <td id=\"T_616a9_row4_col0\" class=\"data row4 col0\" >Ada Boost Classifier</td>\n",
       "      <td id=\"T_616a9_row4_col1\" class=\"data row4 col1\" >0.9900</td>\n",
       "      <td id=\"T_616a9_row4_col2\" class=\"data row4 col2\" >0.6869</td>\n",
       "      <td id=\"T_616a9_row4_col3\" class=\"data row4 col3\" >0.0250</td>\n",
       "      <td id=\"T_616a9_row4_col4\" class=\"data row4 col4\" >0.1500</td>\n",
       "      <td id=\"T_616a9_row4_col5\" class=\"data row4 col5\" >0.0422</td>\n",
       "      <td id=\"T_616a9_row4_col6\" class=\"data row4 col6\" >0.0412</td>\n",
       "      <td id=\"T_616a9_row4_col7\" class=\"data row4 col7\" >0.0591</td>\n",
       "      <td id=\"T_616a9_row4_col8\" class=\"data row4 col8\" >0.0970</td>\n",
       "    </tr>\n",
       "    <tr>\n",
       "      <th id=\"T_616a9_level0_row5\" class=\"row_heading level0 row5\" >gbc</th>\n",
       "      <td id=\"T_616a9_row5_col0\" class=\"data row5 col0\" >Gradient Boosting Classifier</td>\n",
       "      <td id=\"T_616a9_row5_col1\" class=\"data row5 col1\" >0.9892</td>\n",
       "      <td id=\"T_616a9_row5_col2\" class=\"data row5 col2\" >0.7557</td>\n",
       "      <td id=\"T_616a9_row5_col3\" class=\"data row5 col3\" >0.0929</td>\n",
       "      <td id=\"T_616a9_row5_col4\" class=\"data row5 col4\" >0.4000</td>\n",
       "      <td id=\"T_616a9_row5_col5\" class=\"data row5 col5\" >0.1447</td>\n",
       "      <td id=\"T_616a9_row5_col6\" class=\"data row5 col6\" >0.1412</td>\n",
       "      <td id=\"T_616a9_row5_col7\" class=\"data row5 col7\" >0.1833</td>\n",
       "      <td id=\"T_616a9_row5_col8\" class=\"data row5 col8\" >0.1160</td>\n",
       "    </tr>\n",
       "    <tr>\n",
       "      <th id=\"T_616a9_level0_row6\" class=\"row_heading level0 row6\" >svm</th>\n",
       "      <td id=\"T_616a9_row6_col0\" class=\"data row6 col0\" >SVM - Linear Kernel</td>\n",
       "      <td id=\"T_616a9_row6_col1\" class=\"data row6 col1\" >0.9889</td>\n",
       "      <td id=\"T_616a9_row6_col2\" class=\"data row6 col2\" >0.0000</td>\n",
       "      <td id=\"T_616a9_row6_col3\" class=\"data row6 col3\" >0.0268</td>\n",
       "      <td id=\"T_616a9_row6_col4\" class=\"data row6 col4\" >0.0833</td>\n",
       "      <td id=\"T_616a9_row6_col5\" class=\"data row6 col5\" >0.0404</td>\n",
       "      <td id=\"T_616a9_row6_col6\" class=\"data row6 col6\" >0.0378</td>\n",
       "      <td id=\"T_616a9_row6_col7\" class=\"data row6 col7\" >0.0438</td>\n",
       "      <td id=\"T_616a9_row6_col8\" class=\"data row6 col8\" >0.0320</td>\n",
       "    </tr>\n",
       "    <tr>\n",
       "      <th id=\"T_616a9_level0_row7\" class=\"row_heading level0 row7\" >rf</th>\n",
       "      <td id=\"T_616a9_row7_col0\" class=\"data row7 col0\" >Random Forest Classifier</td>\n",
       "      <td id=\"T_616a9_row7_col1\" class=\"data row7 col1\" >0.9889</td>\n",
       "      <td id=\"T_616a9_row7_col2\" class=\"data row7 col2\" >0.6376</td>\n",
       "      <td id=\"T_616a9_row7_col3\" class=\"data row7 col3\" >0.0375</td>\n",
       "      <td id=\"T_616a9_row7_col4\" class=\"data row7 col4\" >0.1033</td>\n",
       "      <td id=\"T_616a9_row7_col5\" class=\"data row7 col5\" >0.0536</td>\n",
       "      <td id=\"T_616a9_row7_col6\" class=\"data row7 col6\" >0.0509</td>\n",
       "      <td id=\"T_616a9_row7_col7\" class=\"data row7 col7\" >0.0581</td>\n",
       "      <td id=\"T_616a9_row7_col8\" class=\"data row7 col8\" >0.1380</td>\n",
       "    </tr>\n",
       "    <tr>\n",
       "      <th id=\"T_616a9_level0_row8\" class=\"row_heading level0 row8\" >et</th>\n",
       "      <td id=\"T_616a9_row8_col0\" class=\"data row8 col0\" >Extra Trees Classifier</td>\n",
       "      <td id=\"T_616a9_row8_col1\" class=\"data row8 col1\" >0.9885</td>\n",
       "      <td id=\"T_616a9_row8_col2\" class=\"data row8 col2\" >0.5407</td>\n",
       "      <td id=\"T_616a9_row8_col3\" class=\"data row8 col3\" >0.0250</td>\n",
       "      <td id=\"T_616a9_row8_col4\" class=\"data row8 col4\" >0.0833</td>\n",
       "      <td id=\"T_616a9_row8_col5\" class=\"data row8 col5\" >0.0382</td>\n",
       "      <td id=\"T_616a9_row8_col6\" class=\"data row8 col6\" >0.0352</td>\n",
       "      <td id=\"T_616a9_row8_col7\" class=\"data row8 col7\" >0.0419</td>\n",
       "      <td id=\"T_616a9_row8_col8\" class=\"data row8 col8\" >0.1410</td>\n",
       "    </tr>\n",
       "    <tr>\n",
       "      <th id=\"T_616a9_level0_row9\" class=\"row_heading level0 row9\" >lightgbm</th>\n",
       "      <td id=\"T_616a9_row9_col0\" class=\"data row9 col0\" >Light Gradient Boosting Machine</td>\n",
       "      <td id=\"T_616a9_row9_col1\" class=\"data row9 col1\" >0.9881</td>\n",
       "      <td id=\"T_616a9_row9_col2\" class=\"data row9 col2\" >0.5928</td>\n",
       "      <td id=\"T_616a9_row9_col3\" class=\"data row9 col3\" >0.0250</td>\n",
       "      <td id=\"T_616a9_row9_col4\" class=\"data row9 col4\" >0.0750</td>\n",
       "      <td id=\"T_616a9_row9_col5\" class=\"data row9 col5\" >0.0367</td>\n",
       "      <td id=\"T_616a9_row9_col6\" class=\"data row9 col6\" >0.0330</td>\n",
       "      <td id=\"T_616a9_row9_col7\" class=\"data row9 col7\" >0.0383</td>\n",
       "      <td id=\"T_616a9_row9_col8\" class=\"data row9 col8\" >0.1180</td>\n",
       "    </tr>\n",
       "    <tr>\n",
       "      <th id=\"T_616a9_level0_row10\" class=\"row_heading level0 row10\" >dt</th>\n",
       "      <td id=\"T_616a9_row10_col0\" class=\"data row10 col0\" >Decision Tree Classifier</td>\n",
       "      <td id=\"T_616a9_row10_col1\" class=\"data row10 col1\" >0.9879</td>\n",
       "      <td id=\"T_616a9_row10_col2\" class=\"data row10 col2\" >0.3973</td>\n",
       "      <td id=\"T_616a9_row10_col3\" class=\"data row10 col3\" >0.0375</td>\n",
       "      <td id=\"T_616a9_row10_col4\" class=\"data row10 col4\" >0.1000</td>\n",
       "      <td id=\"T_616a9_row10_col5\" class=\"data row10 col5\" >0.0525</td>\n",
       "      <td id=\"T_616a9_row10_col6\" class=\"data row10 col6\" >0.0485</td>\n",
       "      <td id=\"T_616a9_row10_col7\" class=\"data row10 col7\" >0.0552</td>\n",
       "      <td id=\"T_616a9_row10_col8\" class=\"data row10 col8\" >0.0400</td>\n",
       "    </tr>\n",
       "    <tr>\n",
       "      <th id=\"T_616a9_level0_row11\" class=\"row_heading level0 row11\" >lda</th>\n",
       "      <td id=\"T_616a9_row11_col0\" class=\"data row11 col0\" >Linear Discriminant Analysis</td>\n",
       "      <td id=\"T_616a9_row11_col1\" class=\"data row11 col1\" >0.9871</td>\n",
       "      <td id=\"T_616a9_row11_col2\" class=\"data row11 col2\" >0.7644</td>\n",
       "      <td id=\"T_616a9_row11_col3\" class=\"data row11 col3\" >0.1321</td>\n",
       "      <td id=\"T_616a9_row11_col4\" class=\"data row11 col4\" >0.1930</td>\n",
       "      <td id=\"T_616a9_row11_col5\" class=\"data row11 col5\" >0.1517</td>\n",
       "      <td id=\"T_616a9_row11_col6\" class=\"data row11 col6\" >0.1464</td>\n",
       "      <td id=\"T_616a9_row11_col7\" class=\"data row11 col7\" >0.1513</td>\n",
       "      <td id=\"T_616a9_row11_col8\" class=\"data row11 col8\" >0.0510</td>\n",
       "    </tr>\n",
       "    <tr>\n",
       "      <th id=\"T_616a9_level0_row12\" class=\"row_heading level0 row12\" >nb</th>\n",
       "      <td id=\"T_616a9_row12_col0\" class=\"data row12 col0\" >Naive Bayes</td>\n",
       "      <td id=\"T_616a9_row12_col1\" class=\"data row12 col1\" >0.9777</td>\n",
       "      <td id=\"T_616a9_row12_col2\" class=\"data row12 col2\" >0.6741</td>\n",
       "      <td id=\"T_616a9_row12_col3\" class=\"data row12 col3\" >0.2304</td>\n",
       "      <td id=\"T_616a9_row12_col4\" class=\"data row12 col4\" >0.1179</td>\n",
       "      <td id=\"T_616a9_row12_col5\" class=\"data row12 col5\" >0.1553</td>\n",
       "      <td id=\"T_616a9_row12_col6\" class=\"data row12 col6\" >0.1451</td>\n",
       "      <td id=\"T_616a9_row12_col7\" class=\"data row12 col7\" >0.1539</td>\n",
       "      <td id=\"T_616a9_row12_col8\" class=\"data row12 col8\" >0.0470</td>\n",
       "    </tr>\n",
       "    <tr>\n",
       "      <th id=\"T_616a9_level0_row13\" class=\"row_heading level0 row13\" >qda</th>\n",
       "      <td id=\"T_616a9_row13_col0\" class=\"data row13 col0\" >Quadratic Discriminant Analysis</td>\n",
       "      <td id=\"T_616a9_row13_col1\" class=\"data row13 col1\" >0.9769</td>\n",
       "      <td id=\"T_616a9_row13_col2\" class=\"data row13 col2\" >0.7024</td>\n",
       "      <td id=\"T_616a9_row13_col3\" class=\"data row13 col3\" >0.2304</td>\n",
       "      <td id=\"T_616a9_row13_col4\" class=\"data row13 col4\" >0.1138</td>\n",
       "      <td id=\"T_616a9_row13_col5\" class=\"data row13 col5\" >0.1514</td>\n",
       "      <td id=\"T_616a9_row13_col6\" class=\"data row13 col6\" >0.1409</td>\n",
       "      <td id=\"T_616a9_row13_col7\" class=\"data row13 col7\" >0.1506</td>\n",
       "      <td id=\"T_616a9_row13_col8\" class=\"data row13 col8\" >0.0420</td>\n",
       "    </tr>\n",
       "  </tbody>\n",
       "</table>\n"
      ],
      "text/plain": [
       "<pandas.io.formats.style.Styler at 0x1ffad28c430>"
      ]
     },
     "metadata": {},
     "output_type": "display_data"
    },
    {
     "data": {
      "application/vnd.jupyter.widget-view+json": {
       "model_id": "",
       "version_major": 2,
       "version_minor": 0
      },
      "text/plain": [
       "Processing:   0%|          | 0/61 [00:00<?, ?it/s]"
      ]
     },
     "metadata": {},
     "output_type": "display_data"
    }
   ],
   "source": [
    "best_model = compare_models()"
   ]
  },
  {
   "cell_type": "code",
   "execution_count": 135,
   "id": "927006f4",
   "metadata": {},
   "outputs": [
    {
     "data": {
      "text/html": [],
      "text/plain": [
       "<IPython.core.display.HTML object>"
      ]
     },
     "metadata": {},
     "output_type": "display_data"
    },
    {
     "data": {
      "text/html": [
       "<style type=\"text/css\">\n",
       "#T_5dc7f_row10_col0, #T_5dc7f_row10_col1, #T_5dc7f_row10_col2, #T_5dc7f_row10_col3, #T_5dc7f_row10_col4, #T_5dc7f_row10_col5, #T_5dc7f_row10_col6 {\n",
       "  background: yellow;\n",
       "}\n",
       "</style>\n",
       "<table id=\"T_5dc7f\">\n",
       "  <thead>\n",
       "    <tr>\n",
       "      <th class=\"blank level0\" >&nbsp;</th>\n",
       "      <th id=\"T_5dc7f_level0_col0\" class=\"col_heading level0 col0\" >Accuracy</th>\n",
       "      <th id=\"T_5dc7f_level0_col1\" class=\"col_heading level0 col1\" >AUC</th>\n",
       "      <th id=\"T_5dc7f_level0_col2\" class=\"col_heading level0 col2\" >Recall</th>\n",
       "      <th id=\"T_5dc7f_level0_col3\" class=\"col_heading level0 col3\" >Prec.</th>\n",
       "      <th id=\"T_5dc7f_level0_col4\" class=\"col_heading level0 col4\" >F1</th>\n",
       "      <th id=\"T_5dc7f_level0_col5\" class=\"col_heading level0 col5\" >Kappa</th>\n",
       "      <th id=\"T_5dc7f_level0_col6\" class=\"col_heading level0 col6\" >MCC</th>\n",
       "    </tr>\n",
       "    <tr>\n",
       "      <th class=\"index_name level0\" >Fold</th>\n",
       "      <th class=\"blank col0\" >&nbsp;</th>\n",
       "      <th class=\"blank col1\" >&nbsp;</th>\n",
       "      <th class=\"blank col2\" >&nbsp;</th>\n",
       "      <th class=\"blank col3\" >&nbsp;</th>\n",
       "      <th class=\"blank col4\" >&nbsp;</th>\n",
       "      <th class=\"blank col5\" >&nbsp;</th>\n",
       "      <th class=\"blank col6\" >&nbsp;</th>\n",
       "    </tr>\n",
       "  </thead>\n",
       "  <tbody>\n",
       "    <tr>\n",
       "      <th id=\"T_5dc7f_level0_row0\" class=\"row_heading level0 row0\" >0</th>\n",
       "      <td id=\"T_5dc7f_row0_col0\" class=\"data row0 col0\" >0.9907</td>\n",
       "      <td id=\"T_5dc7f_row0_col1\" class=\"data row0 col1\" >0.7191</td>\n",
       "      <td id=\"T_5dc7f_row0_col2\" class=\"data row0 col2\" >0.0000</td>\n",
       "      <td id=\"T_5dc7f_row0_col3\" class=\"data row0 col3\" >0.0000</td>\n",
       "      <td id=\"T_5dc7f_row0_col4\" class=\"data row0 col4\" >0.0000</td>\n",
       "      <td id=\"T_5dc7f_row0_col5\" class=\"data row0 col5\" >0.0000</td>\n",
       "      <td id=\"T_5dc7f_row0_col6\" class=\"data row0 col6\" >0.0000</td>\n",
       "    </tr>\n",
       "    <tr>\n",
       "      <th id=\"T_5dc7f_level0_row1\" class=\"row_heading level0 row1\" >1</th>\n",
       "      <td id=\"T_5dc7f_row1_col0\" class=\"data row1 col0\" >0.9907</td>\n",
       "      <td id=\"T_5dc7f_row1_col1\" class=\"data row1 col1\" >0.5348</td>\n",
       "      <td id=\"T_5dc7f_row1_col2\" class=\"data row1 col2\" >0.0000</td>\n",
       "      <td id=\"T_5dc7f_row1_col3\" class=\"data row1 col3\" >0.0000</td>\n",
       "      <td id=\"T_5dc7f_row1_col4\" class=\"data row1 col4\" >0.0000</td>\n",
       "      <td id=\"T_5dc7f_row1_col5\" class=\"data row1 col5\" >0.0000</td>\n",
       "      <td id=\"T_5dc7f_row1_col6\" class=\"data row1 col6\" >0.0000</td>\n",
       "    </tr>\n",
       "    <tr>\n",
       "      <th id=\"T_5dc7f_level0_row2\" class=\"row_heading level0 row2\" >2</th>\n",
       "      <td id=\"T_5dc7f_row2_col0\" class=\"data row2 col0\" >0.9920</td>\n",
       "      <td id=\"T_5dc7f_row2_col1\" class=\"data row2 col1\" >0.7918</td>\n",
       "      <td id=\"T_5dc7f_row2_col2\" class=\"data row2 col2\" >0.1429</td>\n",
       "      <td id=\"T_5dc7f_row2_col3\" class=\"data row2 col3\" >1.0000</td>\n",
       "      <td id=\"T_5dc7f_row2_col4\" class=\"data row2 col4\" >0.2500</td>\n",
       "      <td id=\"T_5dc7f_row2_col5\" class=\"data row2 col5\" >0.2482</td>\n",
       "      <td id=\"T_5dc7f_row2_col6\" class=\"data row2 col6\" >0.3764</td>\n",
       "    </tr>\n",
       "    <tr>\n",
       "      <th id=\"T_5dc7f_level0_row3\" class=\"row_heading level0 row3\" >3</th>\n",
       "      <td id=\"T_5dc7f_row3_col0\" class=\"data row3 col0\" >0.9907</td>\n",
       "      <td id=\"T_5dc7f_row3_col1\" class=\"data row3 col1\" >0.8818</td>\n",
       "      <td id=\"T_5dc7f_row3_col2\" class=\"data row3 col2\" >0.0000</td>\n",
       "      <td id=\"T_5dc7f_row3_col3\" class=\"data row3 col3\" >0.0000</td>\n",
       "      <td id=\"T_5dc7f_row3_col4\" class=\"data row3 col4\" >0.0000</td>\n",
       "      <td id=\"T_5dc7f_row3_col5\" class=\"data row3 col5\" >0.0000</td>\n",
       "      <td id=\"T_5dc7f_row3_col6\" class=\"data row3 col6\" >0.0000</td>\n",
       "    </tr>\n",
       "    <tr>\n",
       "      <th id=\"T_5dc7f_level0_row4\" class=\"row_heading level0 row4\" >4</th>\n",
       "      <td id=\"T_5dc7f_row4_col0\" class=\"data row4 col0\" >0.9893</td>\n",
       "      <td id=\"T_5dc7f_row4_col1\" class=\"data row4 col1\" >0.8904</td>\n",
       "      <td id=\"T_5dc7f_row4_col2\" class=\"data row4 col2\" >0.0000</td>\n",
       "      <td id=\"T_5dc7f_row4_col3\" class=\"data row4 col3\" >0.0000</td>\n",
       "      <td id=\"T_5dc7f_row4_col4\" class=\"data row4 col4\" >0.0000</td>\n",
       "      <td id=\"T_5dc7f_row4_col5\" class=\"data row4 col5\" >-0.0023</td>\n",
       "      <td id=\"T_5dc7f_row4_col6\" class=\"data row4 col6\" >-0.0035</td>\n",
       "    </tr>\n",
       "    <tr>\n",
       "      <th id=\"T_5dc7f_level0_row5\" class=\"row_heading level0 row5\" >5</th>\n",
       "      <td id=\"T_5dc7f_row5_col0\" class=\"data row5 col0\" >0.9893</td>\n",
       "      <td id=\"T_5dc7f_row5_col1\" class=\"data row5 col1\" >0.7559</td>\n",
       "      <td id=\"T_5dc7f_row5_col2\" class=\"data row5 col2\" >0.1250</td>\n",
       "      <td id=\"T_5dc7f_row5_col3\" class=\"data row5 col3\" >0.5000</td>\n",
       "      <td id=\"T_5dc7f_row5_col4\" class=\"data row5 col4\" >0.2000</td>\n",
       "      <td id=\"T_5dc7f_row5_col5\" class=\"data row5 col5\" >0.1966</td>\n",
       "      <td id=\"T_5dc7f_row5_col6\" class=\"data row5 col6\" >0.2463</td>\n",
       "    </tr>\n",
       "    <tr>\n",
       "      <th id=\"T_5dc7f_level0_row6\" class=\"row_heading level0 row6\" >6</th>\n",
       "      <td id=\"T_5dc7f_row6_col0\" class=\"data row6 col0\" >0.9893</td>\n",
       "      <td id=\"T_5dc7f_row6_col1\" class=\"data row6 col1\" >0.6455</td>\n",
       "      <td id=\"T_5dc7f_row6_col2\" class=\"data row6 col2\" >0.0000</td>\n",
       "      <td id=\"T_5dc7f_row6_col3\" class=\"data row6 col3\" >0.0000</td>\n",
       "      <td id=\"T_5dc7f_row6_col4\" class=\"data row6 col4\" >0.0000</td>\n",
       "      <td id=\"T_5dc7f_row6_col5\" class=\"data row6 col5\" >0.0000</td>\n",
       "      <td id=\"T_5dc7f_row6_col6\" class=\"data row6 col6\" >0.0000</td>\n",
       "    </tr>\n",
       "    <tr>\n",
       "      <th id=\"T_5dc7f_level0_row7\" class=\"row_heading level0 row7\" >7</th>\n",
       "      <td id=\"T_5dc7f_row7_col0\" class=\"data row7 col0\" >0.9907</td>\n",
       "      <td id=\"T_5dc7f_row7_col1\" class=\"data row7 col1\" >0.7155</td>\n",
       "      <td id=\"T_5dc7f_row7_col2\" class=\"data row7 col2\" >0.2500</td>\n",
       "      <td id=\"T_5dc7f_row7_col3\" class=\"data row7 col3\" >0.6667</td>\n",
       "      <td id=\"T_5dc7f_row7_col4\" class=\"data row7 col4\" >0.3636</td>\n",
       "      <td id=\"T_5dc7f_row7_col5\" class=\"data row7 col5\" >0.3599</td>\n",
       "      <td id=\"T_5dc7f_row7_col6\" class=\"data row7 col6\" >0.4047</td>\n",
       "    </tr>\n",
       "    <tr>\n",
       "      <th id=\"T_5dc7f_level0_row8\" class=\"row_heading level0 row8\" >8</th>\n",
       "      <td id=\"T_5dc7f_row8_col0\" class=\"data row8 col0\" >0.9907</td>\n",
       "      <td id=\"T_5dc7f_row8_col1\" class=\"data row8 col1\" >0.7903</td>\n",
       "      <td id=\"T_5dc7f_row8_col2\" class=\"data row8 col2\" >0.1250</td>\n",
       "      <td id=\"T_5dc7f_row8_col3\" class=\"data row8 col3\" >1.0000</td>\n",
       "      <td id=\"T_5dc7f_row8_col4\" class=\"data row8 col4\" >0.2222</td>\n",
       "      <td id=\"T_5dc7f_row8_col5\" class=\"data row8 col5\" >0.2204</td>\n",
       "      <td id=\"T_5dc7f_row8_col6\" class=\"data row8 col6\" >0.3519</td>\n",
       "    </tr>\n",
       "    <tr>\n",
       "      <th id=\"T_5dc7f_level0_row9\" class=\"row_heading level0 row9\" >9</th>\n",
       "      <td id=\"T_5dc7f_row9_col0\" class=\"data row9 col0\" >0.9907</td>\n",
       "      <td id=\"T_5dc7f_row9_col1\" class=\"data row9 col1\" >0.6510</td>\n",
       "      <td id=\"T_5dc7f_row9_col2\" class=\"data row9 col2\" >0.0000</td>\n",
       "      <td id=\"T_5dc7f_row9_col3\" class=\"data row9 col3\" >0.0000</td>\n",
       "      <td id=\"T_5dc7f_row9_col4\" class=\"data row9 col4\" >0.0000</td>\n",
       "      <td id=\"T_5dc7f_row9_col5\" class=\"data row9 col5\" >0.0000</td>\n",
       "      <td id=\"T_5dc7f_row9_col6\" class=\"data row9 col6\" >0.0000</td>\n",
       "    </tr>\n",
       "    <tr>\n",
       "      <th id=\"T_5dc7f_level0_row10\" class=\"row_heading level0 row10\" >Mean</th>\n",
       "      <td id=\"T_5dc7f_row10_col0\" class=\"data row10 col0\" >0.9904</td>\n",
       "      <td id=\"T_5dc7f_row10_col1\" class=\"data row10 col1\" >0.7376</td>\n",
       "      <td id=\"T_5dc7f_row10_col2\" class=\"data row10 col2\" >0.0643</td>\n",
       "      <td id=\"T_5dc7f_row10_col3\" class=\"data row10 col3\" >0.3167</td>\n",
       "      <td id=\"T_5dc7f_row10_col4\" class=\"data row10 col4\" >0.1036</td>\n",
       "      <td id=\"T_5dc7f_row10_col5\" class=\"data row10 col5\" >0.1023</td>\n",
       "      <td id=\"T_5dc7f_row10_col6\" class=\"data row10 col6\" >0.1376</td>\n",
       "    </tr>\n",
       "    <tr>\n",
       "      <th id=\"T_5dc7f_level0_row11\" class=\"row_heading level0 row11\" >Std</th>\n",
       "      <td id=\"T_5dc7f_row11_col0\" class=\"data row11 col0\" >0.0008</td>\n",
       "      <td id=\"T_5dc7f_row11_col1\" class=\"data row11 col1\" >0.1040</td>\n",
       "      <td id=\"T_5dc7f_row11_col2\" class=\"data row11 col2\" >0.0853</td>\n",
       "      <td id=\"T_5dc7f_row11_col3\" class=\"data row11 col3\" >0.4113</td>\n",
       "      <td id=\"T_5dc7f_row11_col4\" class=\"data row11 col4\" >0.1330</td>\n",
       "      <td id=\"T_5dc7f_row11_col5\" class=\"data row11 col5\" >0.1318</td>\n",
       "      <td id=\"T_5dc7f_row11_col6\" class=\"data row11 col6\" >0.1734</td>\n",
       "    </tr>\n",
       "  </tbody>\n",
       "</table>\n"
      ],
      "text/plain": [
       "<pandas.io.formats.style.Styler at 0x1ffad2dd540>"
      ]
     },
     "metadata": {},
     "output_type": "display_data"
    },
    {
     "data": {
      "application/vnd.jupyter.widget-view+json": {
       "model_id": "",
       "version_major": 2,
       "version_minor": 0
      },
      "text/plain": [
       "Processing:   0%|          | 0/4 [00:00<?, ?it/s]"
      ]
     },
     "metadata": {},
     "output_type": "display_data"
    }
   ],
   "source": [
    "lr = create_model('lr')"
   ]
  },
  {
   "cell_type": "code",
   "execution_count": 136,
   "id": "243229a6",
   "metadata": {},
   "outputs": [
    {
     "data": {
      "text/html": [],
      "text/plain": [
       "<IPython.core.display.HTML object>"
      ]
     },
     "metadata": {},
     "output_type": "display_data"
    },
    {
     "data": {
      "image/png": "[encoded data removed]",
      "text/plain": [
       "<Figure size 800x500 with 1 Axes>"
      ]
     },
     "metadata": {},
     "output_type": "display_data"
    }
   ],
   "source": [
    "plot_model(lr, plot='feature')"
   ]
  },
  {
   "cell_type": "code",
   "execution_count": 137,
   "id": "338c1bf2",
   "metadata": {},
   "outputs": [
    {
     "data": {
      "text/html": [],
      "text/plain": [
       "<IPython.core.display.HTML object>"
      ]
     },
     "metadata": {},
     "output_type": "display_data"
    },
    {
     "data": {
      "image/png": "[encoded data removed]",
      "text/plain": [
       "<Figure size 800x550 with 1 Axes>"
      ]
     },
     "metadata": {},
     "output_type": "display_data"
    }
   ],
   "source": [
    "plot_model(lr, plot = 'confusion_matrix')"
   ]
  },
  {
   "cell_type": "code",
   "execution_count": 141,
   "id": "80109a80",
   "metadata": {},
   "outputs": [
    {
     "data": {
      "text/html": [
       "<style type=\"text/css\">\n",
       "</style>\n",
       "<table id=\"T_6a301\">\n",
       "  <thead>\n",
       "    <tr>\n",
       "      <th class=\"blank level0\" >&nbsp;</th>\n",
       "      <th id=\"T_6a301_level0_col0\" class=\"col_heading level0 col0\" >Model</th>\n",
       "      <th id=\"T_6a301_level0_col1\" class=\"col_heading level0 col1\" >Accuracy</th>\n",
       "      <th id=\"T_6a301_level0_col2\" class=\"col_heading level0 col2\" >AUC</th>\n",
       "      <th id=\"T_6a301_level0_col3\" class=\"col_heading level0 col3\" >Recall</th>\n",
       "      <th id=\"T_6a301_level0_col4\" class=\"col_heading level0 col4\" >Prec.</th>\n",
       "      <th id=\"T_6a301_level0_col5\" class=\"col_heading level0 col5\" >F1</th>\n",
       "      <th id=\"T_6a301_level0_col6\" class=\"col_heading level0 col6\" >Kappa</th>\n",
       "      <th id=\"T_6a301_level0_col7\" class=\"col_heading level0 col7\" >MCC</th>\n",
       "    </tr>\n",
       "  </thead>\n",
       "  <tbody>\n",
       "    <tr>\n",
       "      <th id=\"T_6a301_level0_row0\" class=\"row_heading level0 row0\" >0</th>\n",
       "      <td id=\"T_6a301_row0_col0\" class=\"data row0 col0\" >Logistic Regression</td>\n",
       "      <td id=\"T_6a301_row0_col1\" class=\"data row0 col1\" >0.9891</td>\n",
       "      <td id=\"T_6a301_row0_col2\" class=\"data row0 col2\" >0.7652</td>\n",
       "      <td id=\"T_6a301_row0_col3\" class=\"data row0 col3\" >0.0312</td>\n",
       "      <td id=\"T_6a301_row0_col4\" class=\"data row0 col4\" >0.2000</td>\n",
       "      <td id=\"T_6a301_row0_col5\" class=\"data row0 col5\" >0.0541</td>\n",
       "      <td id=\"T_6a301_row0_col6\" class=\"data row0 col6\" >0.0515</td>\n",
       "      <td id=\"T_6a301_row0_col7\" class=\"data row0 col7\" >0.0756</td>\n",
       "    </tr>\n",
       "  </tbody>\n",
       "</table>\n"
      ],
      "text/plain": [
       "<pandas.io.formats.style.Styler at 0x1ffaf3d9d80>"
      ]
     },
     "metadata": {},
     "output_type": "display_data"
    }
   ],
   "source": [
    "prediction = predict_model(lr)"
   ]
  },
  {
   "cell_type": "code",
   "execution_count": 243,
   "id": "0255ec53",
   "metadata": {},
   "outputs": [
    {
     "data": {
      "text/html": [
       "<div>\n",
       "<style scoped>\n",
       "    .dataframe tbody tr th:only-of-type {\n",
       "        vertical-align: middle;\n",
       "    }\n",
       "\n",
       "    .dataframe tbody tr th {\n",
       "        vertical-align: top;\n",
       "    }\n",
       "\n",
       "    .dataframe thead th {\n",
       "        text-align: right;\n",
       "    }\n",
       "</style>\n",
       "<table border=\"1\" class=\"dataframe\">\n",
       "  <thead>\n",
       "    <tr style=\"text-align: right;\">\n",
       "      <th></th>\n",
       "      <th>attribute2</th>\n",
       "      <th>attribute4</th>\n",
       "      <th>attribute5</th>\n",
       "      <th>attribute3_g</th>\n",
       "      <th>attribute8</th>\n",
       "      <th>attribute9</th>\n",
       "      <th>failure</th>\n",
       "      <th>prediction_label</th>\n",
       "      <th>prediction_score</th>\n",
       "    </tr>\n",
       "  </thead>\n",
       "  <tbody>\n",
       "    <tr>\n",
       "      <th>754</th>\n",
       "      <td>0</td>\n",
       "      <td>0</td>\n",
       "      <td>20</td>\n",
       "      <td>maior 0</td>\n",
       "      <td>0</td>\n",
       "      <td>33</td>\n",
       "      <td>0</td>\n",
       "      <td>0</td>\n",
       "      <td>0.62</td>\n",
       "    </tr>\n",
       "    <tr>\n",
       "      <th>5276</th>\n",
       "      <td>0</td>\n",
       "      <td>0</td>\n",
       "      <td>6</td>\n",
       "      <td>igual 0</td>\n",
       "      <td>0</td>\n",
       "      <td>12</td>\n",
       "      <td>0</td>\n",
       "      <td>0</td>\n",
       "      <td>0.70</td>\n",
       "    </tr>\n",
       "    <tr>\n",
       "      <th>7328</th>\n",
       "      <td>0</td>\n",
       "      <td>0</td>\n",
       "      <td>12</td>\n",
       "      <td>igual 0</td>\n",
       "      <td>0</td>\n",
       "      <td>0</td>\n",
       "      <td>0</td>\n",
       "      <td>0</td>\n",
       "      <td>0.81</td>\n",
       "    </tr>\n",
       "    <tr>\n",
       "      <th>8487</th>\n",
       "      <td>0</td>\n",
       "      <td>0</td>\n",
       "      <td>11</td>\n",
       "      <td>igual 0</td>\n",
       "      <td>0</td>\n",
       "      <td>0</td>\n",
       "      <td>0</td>\n",
       "      <td>0</td>\n",
       "      <td>0.88</td>\n",
       "    </tr>\n",
       "    <tr>\n",
       "      <th>3632</th>\n",
       "      <td>0</td>\n",
       "      <td>0</td>\n",
       "      <td>11</td>\n",
       "      <td>igual 0</td>\n",
       "      <td>0</td>\n",
       "      <td>0</td>\n",
       "      <td>0</td>\n",
       "      <td>0</td>\n",
       "      <td>0.88</td>\n",
       "    </tr>\n",
       "  </tbody>\n",
       "</table>\n",
       "</div>"
      ],
      "text/plain": [
       "      attribute2  attribute4  attribute5 attribute3_g  attribute8  attribute9  \\\n",
       "754            0           0          20      maior 0           0          33   \n",
       "5276           0           0           6      igual 0           0          12   \n",
       "7328           0           0          12      igual 0           0           0   \n",
       "8487           0           0          11      igual 0           0           0   \n",
       "3632           0           0          11      igual 0           0           0   \n",
       "\n",
       "      failure  prediction_label  prediction_score  \n",
       "754         0                 0              0.62  \n",
       "5276        0                 0              0.70  \n",
       "7328        0                 0              0.81  \n",
       "8487        0                 0              0.88  \n",
       "3632        0                 0              0.88  "
      ]
     },
     "execution_count": 243,
     "metadata": {},
     "output_type": "execute_result"
    }
   ],
   "source": [
    "prediction.tail()"
   ]
  },
  {
   "cell_type": "code",
   "execution_count": 143,
   "id": "bb6ca6a8",
   "metadata": {
    "scrolled": true
   },
   "outputs": [
    {
     "data": {
      "text/html": [
       "<div>\n",
       "<style scoped>\n",
       "    .dataframe tbody tr th:only-of-type {\n",
       "        vertical-align: middle;\n",
       "    }\n",
       "\n",
       "    .dataframe tbody tr th {\n",
       "        vertical-align: top;\n",
       "    }\n",
       "\n",
       "    .dataframe thead th {\n",
       "        text-align: right;\n",
       "    }\n",
       "</style>\n",
       "<table border=\"1\" class=\"dataframe\">\n",
       "  <thead>\n",
       "    <tr style=\"text-align: right;\">\n",
       "      <th></th>\n",
       "      <th>prediction_label</th>\n",
       "      <th>attribute2</th>\n",
       "    </tr>\n",
       "  </thead>\n",
       "  <tbody>\n",
       "    <tr>\n",
       "      <th>0</th>\n",
       "      <td>0</td>\n",
       "      <td>3209</td>\n",
       "    </tr>\n",
       "    <tr>\n",
       "      <th>1</th>\n",
       "      <td>1</td>\n",
       "      <td>5</td>\n",
       "    </tr>\n",
       "  </tbody>\n",
       "</table>\n",
       "</div>"
      ],
      "text/plain": [
       "   prediction_label  attribute2\n",
       "0                 0        3209\n",
       "1                 1           5"
      ]
     },
     "execution_count": 143,
     "metadata": {},
     "output_type": "execute_result"
    }
   ],
   "source": [
    "prediction.groupby(['prediction_label'] , dropna=False)[\"attribute2\"].count().reset_index()"
   ]
  },
  {
   "cell_type": "code",
   "execution_count": 144,
   "id": "e5ebb09f",
   "metadata": {},
   "outputs": [
    {
     "data": {
      "text/html": [
       "<div>\n",
       "<style scoped>\n",
       "    .dataframe tbody tr th:only-of-type {\n",
       "        vertical-align: middle;\n",
       "    }\n",
       "\n",
       "    .dataframe tbody tr th {\n",
       "        vertical-align: top;\n",
       "    }\n",
       "\n",
       "    .dataframe thead th {\n",
       "        text-align: right;\n",
       "    }\n",
       "</style>\n",
       "<table border=\"1\" class=\"dataframe\">\n",
       "  <thead>\n",
       "    <tr style=\"text-align: right;\">\n",
       "      <th></th>\n",
       "      <th>prediction_score</th>\n",
       "      <th>attribute2</th>\n",
       "    </tr>\n",
       "  </thead>\n",
       "  <tbody>\n",
       "    <tr>\n",
       "      <th>0</th>\n",
       "      <td>0.56</td>\n",
       "      <td>1</td>\n",
       "    </tr>\n",
       "    <tr>\n",
       "      <th>1</th>\n",
       "      <td>0.63</td>\n",
       "      <td>1</td>\n",
       "    </tr>\n",
       "    <tr>\n",
       "      <th>2</th>\n",
       "      <td>0.72</td>\n",
       "      <td>1</td>\n",
       "    </tr>\n",
       "    <tr>\n",
       "      <th>3</th>\n",
       "      <td>0.73</td>\n",
       "      <td>1</td>\n",
       "    </tr>\n",
       "    <tr>\n",
       "      <th>4</th>\n",
       "      <td>0.73</td>\n",
       "      <td>1</td>\n",
       "    </tr>\n",
       "    <tr>\n",
       "      <th>...</th>\n",
       "      <td>...</td>\n",
       "      <td>...</td>\n",
       "    </tr>\n",
       "    <tr>\n",
       "      <th>92</th>\n",
       "      <td>1.00</td>\n",
       "      <td>1</td>\n",
       "    </tr>\n",
       "    <tr>\n",
       "      <th>93</th>\n",
       "      <td>1.00</td>\n",
       "      <td>38</td>\n",
       "    </tr>\n",
       "    <tr>\n",
       "      <th>94</th>\n",
       "      <td>1.00</td>\n",
       "      <td>1</td>\n",
       "    </tr>\n",
       "    <tr>\n",
       "      <th>95</th>\n",
       "      <td>1.00</td>\n",
       "      <td>1</td>\n",
       "    </tr>\n",
       "    <tr>\n",
       "      <th>96</th>\n",
       "      <td>1.00</td>\n",
       "      <td>1</td>\n",
       "    </tr>\n",
       "  </tbody>\n",
       "</table>\n",
       "<p>97 rows × 2 columns</p>\n",
       "</div>"
      ],
      "text/plain": [
       "    prediction_score  attribute2\n",
       "0               0.56           1\n",
       "1               0.63           1\n",
       "2               0.72           1\n",
       "3               0.73           1\n",
       "4               0.73           1\n",
       "..               ...         ...\n",
       "92              1.00           1\n",
       "93              1.00          38\n",
       "94              1.00           1\n",
       "95              1.00           1\n",
       "96              1.00           1\n",
       "\n",
       "[97 rows x 2 columns]"
      ]
     },
     "execution_count": 144,
     "metadata": {},
     "output_type": "execute_result"
    }
   ],
   "source": [
    "prediction.groupby(['prediction_score'] , dropna=False)[\"attribute2\"].count().reset_index()"
   ]
  },
  {
   "cell_type": "code",
   "execution_count": 226,
   "id": "26971342",
   "metadata": {},
   "outputs": [
    {
     "data": {
      "text/html": [
       "<style type=\"text/css\">\n",
       "</style>\n",
       "<table id=\"T_93ffc\">\n",
       "  <thead>\n",
       "    <tr>\n",
       "      <th class=\"blank level0\" >&nbsp;</th>\n",
       "      <th id=\"T_93ffc_level0_col0\" class=\"col_heading level0 col0\" >Model</th>\n",
       "      <th id=\"T_93ffc_level0_col1\" class=\"col_heading level0 col1\" >Accuracy</th>\n",
       "      <th id=\"T_93ffc_level0_col2\" class=\"col_heading level0 col2\" >AUC</th>\n",
       "      <th id=\"T_93ffc_level0_col3\" class=\"col_heading level0 col3\" >Recall</th>\n",
       "      <th id=\"T_93ffc_level0_col4\" class=\"col_heading level0 col4\" >Prec.</th>\n",
       "      <th id=\"T_93ffc_level0_col5\" class=\"col_heading level0 col5\" >F1</th>\n",
       "      <th id=\"T_93ffc_level0_col6\" class=\"col_heading level0 col6\" >Kappa</th>\n",
       "      <th id=\"T_93ffc_level0_col7\" class=\"col_heading level0 col7\" >MCC</th>\n",
       "    </tr>\n",
       "  </thead>\n",
       "  <tbody>\n",
       "    <tr>\n",
       "      <th id=\"T_93ffc_level0_row0\" class=\"row_heading level0 row0\" >0</th>\n",
       "      <td id=\"T_93ffc_row0_col0\" class=\"data row0 col0\" >Logistic Regression</td>\n",
       "      <td id=\"T_93ffc_row0_col1\" class=\"data row0 col1\" >0.9989</td>\n",
       "      <td id=\"T_93ffc_row0_col2\" class=\"data row0 col2\" >0.8030</td>\n",
       "      <td id=\"T_93ffc_row0_col3\" class=\"data row0 col3\" >0.0566</td>\n",
       "      <td id=\"T_93ffc_row0_col4\" class=\"data row0 col4\" >0.1333</td>\n",
       "      <td id=\"T_93ffc_row0_col5\" class=\"data row0 col5\" >0.0795</td>\n",
       "      <td id=\"T_93ffc_row0_col6\" class=\"data row0 col6\" >0.0790</td>\n",
       "      <td id=\"T_93ffc_row0_col7\" class=\"data row0 col7\" >0.0864</td>\n",
       "    </tr>\n",
       "  </tbody>\n",
       "</table>\n"
      ],
      "text/plain": [
       "<pandas.io.formats.style.Styler at 0x1ffb1b21fc0>"
      ]
     },
     "metadata": {},
     "output_type": "display_data"
    }
   ],
   "source": [
    "validation_predictions_2 = predict_model(lr, data=full_devices)"
   ]
  },
  {
   "cell_type": "code",
   "execution_count": 227,
   "id": "3975f279",
   "metadata": {},
   "outputs": [
    {
     "data": {
      "text/html": [
       "<div>\n",
       "<style scoped>\n",
       "    .dataframe tbody tr th:only-of-type {\n",
       "        vertical-align: middle;\n",
       "    }\n",
       "\n",
       "    .dataframe tbody tr th {\n",
       "        vertical-align: top;\n",
       "    }\n",
       "\n",
       "    .dataframe thead th {\n",
       "        text-align: right;\n",
       "    }\n",
       "</style>\n",
       "<table border=\"1\" class=\"dataframe\">\n",
       "  <thead>\n",
       "    <tr style=\"text-align: right;\">\n",
       "      <th></th>\n",
       "      <th>failure</th>\n",
       "      <th>prediction_label</th>\n",
       "      <th>device</th>\n",
       "    </tr>\n",
       "  </thead>\n",
       "  <tbody>\n",
       "    <tr>\n",
       "      <th>0</th>\n",
       "      <td>0</td>\n",
       "      <td>0</td>\n",
       "      <td>124349</td>\n",
       "    </tr>\n",
       "    <tr>\n",
       "      <th>1</th>\n",
       "      <td>0</td>\n",
       "      <td>1</td>\n",
       "      <td>39</td>\n",
       "    </tr>\n",
       "    <tr>\n",
       "      <th>2</th>\n",
       "      <td>1</td>\n",
       "      <td>0</td>\n",
       "      <td>100</td>\n",
       "    </tr>\n",
       "    <tr>\n",
       "      <th>3</th>\n",
       "      <td>1</td>\n",
       "      <td>1</td>\n",
       "      <td>6</td>\n",
       "    </tr>\n",
       "  </tbody>\n",
       "</table>\n",
       "</div>"
      ],
      "text/plain": [
       "   failure  prediction_label  device\n",
       "0        0                 0  124349\n",
       "1        0                 1      39\n",
       "2        1                 0     100\n",
       "3        1                 1       6"
      ]
     },
     "execution_count": 227,
     "metadata": {},
     "output_type": "execute_result"
    }
   ],
   "source": [
    "validation_predictions_2.groupby([\"failure\", 'prediction_label'], dropna=False)[\"device\"].count().reset_index()"
   ]
  },
  {
   "cell_type": "markdown",
   "id": "c47df04c",
   "metadata": {},
   "source": [
    "# Estratificado\n",
    "\n",
    "amostra estratificada, isto é, serão usados 106 eventos 0 e os todos os 1 para modelar. \n"
   ]
  },
  {
   "cell_type": "code",
   "execution_count": 244,
   "id": "8c72bc1b",
   "metadata": {},
   "outputs": [],
   "source": [
    "np.random.seed(3)\n",
    "random_index = np.random.randint(0,11370, (106))"
   ]
  },
  {
   "cell_type": "code",
   "execution_count": 245,
   "id": "84ea719d",
   "metadata": {},
   "outputs": [],
   "source": [
    "no_failure_model = no_failure_devices[no_failure_devices.index.isin(random_index)]"
   ]
  },
  {
   "cell_type": "code",
   "execution_count": 246,
   "id": "59910bdb",
   "metadata": {},
   "outputs": [],
   "source": [
    "devices_model = pd.concat([failure, no_failure_model, ])"
   ]
  },
  {
   "cell_type": "code",
   "execution_count": 247,
   "id": "75901363",
   "metadata": {},
   "outputs": [
    {
     "data": {
      "text/html": [
       "<div>\n",
       "<style scoped>\n",
       "    .dataframe tbody tr th:only-of-type {\n",
       "        vertical-align: middle;\n",
       "    }\n",
       "\n",
       "    .dataframe tbody tr th {\n",
       "        vertical-align: top;\n",
       "    }\n",
       "\n",
       "    .dataframe thead th {\n",
       "        text-align: right;\n",
       "    }\n",
       "</style>\n",
       "<table border=\"1\" class=\"dataframe\">\n",
       "  <thead>\n",
       "    <tr style=\"text-align: right;\">\n",
       "      <th></th>\n",
       "      <th>failure</th>\n",
       "      <th>attribute2</th>\n",
       "    </tr>\n",
       "  </thead>\n",
       "  <tbody>\n",
       "    <tr>\n",
       "      <th>0</th>\n",
       "      <td>0</td>\n",
       "      <td>106</td>\n",
       "    </tr>\n",
       "    <tr>\n",
       "      <th>1</th>\n",
       "      <td>1</td>\n",
       "      <td>106</td>\n",
       "    </tr>\n",
       "  </tbody>\n",
       "</table>\n",
       "</div>"
      ],
      "text/plain": [
       "   failure  attribute2\n",
       "0        0         106\n",
       "1        1         106"
      ]
     },
     "execution_count": 247,
     "metadata": {},
     "output_type": "execute_result"
    }
   ],
   "source": [
    "devices_model.groupby(['failure'] , dropna=False)[\"attribute2\"].count().reset_index()"
   ]
  },
  {
   "cell_type": "code",
   "execution_count": 211,
   "id": "511f5f02",
   "metadata": {},
   "outputs": [],
   "source": [
    "devices_model_estr = devices_model[['attribute2', 'attribute4', 'attribute5', \n",
    "                 'attribute3_g', 'attribute8','attribute9' , 'failure' ]]"
   ]
  },
  {
   "cell_type": "code",
   "execution_count": 212,
   "id": "2c7f92a6",
   "metadata": {},
   "outputs": [
    {
     "data": {
      "text/html": [
       "<style type=\"text/css\">\n",
       "#T_ada1d_row10_col1 {\n",
       "  background-color: lightgreen;\n",
       "}\n",
       "</style>\n",
       "<table id=\"T_ada1d\">\n",
       "  <thead>\n",
       "    <tr>\n",
       "      <th class=\"blank level0\" >&nbsp;</th>\n",
       "      <th id=\"T_ada1d_level0_col0\" class=\"col_heading level0 col0\" >Description</th>\n",
       "      <th id=\"T_ada1d_level0_col1\" class=\"col_heading level0 col1\" >Value</th>\n",
       "    </tr>\n",
       "  </thead>\n",
       "  <tbody>\n",
       "    <tr>\n",
       "      <th id=\"T_ada1d_level0_row0\" class=\"row_heading level0 row0\" >0</th>\n",
       "      <td id=\"T_ada1d_row0_col0\" class=\"data row0 col0\" >Session id</td>\n",
       "      <td id=\"T_ada1d_row0_col1\" class=\"data row0 col1\" >100</td>\n",
       "    </tr>\n",
       "    <tr>\n",
       "      <th id=\"T_ada1d_level0_row1\" class=\"row_heading level0 row1\" >1</th>\n",
       "      <td id=\"T_ada1d_row1_col0\" class=\"data row1 col0\" >Target</td>\n",
       "      <td id=\"T_ada1d_row1_col1\" class=\"data row1 col1\" >failure</td>\n",
       "    </tr>\n",
       "    <tr>\n",
       "      <th id=\"T_ada1d_level0_row2\" class=\"row_heading level0 row2\" >2</th>\n",
       "      <td id=\"T_ada1d_row2_col0\" class=\"data row2 col0\" >Target type</td>\n",
       "      <td id=\"T_ada1d_row2_col1\" class=\"data row2 col1\" >Binary</td>\n",
       "    </tr>\n",
       "    <tr>\n",
       "      <th id=\"T_ada1d_level0_row3\" class=\"row_heading level0 row3\" >3</th>\n",
       "      <td id=\"T_ada1d_row3_col0\" class=\"data row3 col0\" >Original data shape</td>\n",
       "      <td id=\"T_ada1d_row3_col1\" class=\"data row3 col1\" >(212, 7)</td>\n",
       "    </tr>\n",
       "    <tr>\n",
       "      <th id=\"T_ada1d_level0_row4\" class=\"row_heading level0 row4\" >4</th>\n",
       "      <td id=\"T_ada1d_row4_col0\" class=\"data row4 col0\" >Transformed data shape</td>\n",
       "      <td id=\"T_ada1d_row4_col1\" class=\"data row4 col1\" >(212, 7)</td>\n",
       "    </tr>\n",
       "    <tr>\n",
       "      <th id=\"T_ada1d_level0_row5\" class=\"row_heading level0 row5\" >5</th>\n",
       "      <td id=\"T_ada1d_row5_col0\" class=\"data row5 col0\" >Transformed train set shape</td>\n",
       "      <td id=\"T_ada1d_row5_col1\" class=\"data row5 col1\" >(148, 7)</td>\n",
       "    </tr>\n",
       "    <tr>\n",
       "      <th id=\"T_ada1d_level0_row6\" class=\"row_heading level0 row6\" >6</th>\n",
       "      <td id=\"T_ada1d_row6_col0\" class=\"data row6 col0\" >Transformed test set shape</td>\n",
       "      <td id=\"T_ada1d_row6_col1\" class=\"data row6 col1\" >(64, 7)</td>\n",
       "    </tr>\n",
       "    <tr>\n",
       "      <th id=\"T_ada1d_level0_row7\" class=\"row_heading level0 row7\" >7</th>\n",
       "      <td id=\"T_ada1d_row7_col0\" class=\"data row7 col0\" >Ordinal features</td>\n",
       "      <td id=\"T_ada1d_row7_col1\" class=\"data row7 col1\" >1</td>\n",
       "    </tr>\n",
       "    <tr>\n",
       "      <th id=\"T_ada1d_level0_row8\" class=\"row_heading level0 row8\" >8</th>\n",
       "      <td id=\"T_ada1d_row8_col0\" class=\"data row8 col0\" >Numeric features</td>\n",
       "      <td id=\"T_ada1d_row8_col1\" class=\"data row8 col1\" >5</td>\n",
       "    </tr>\n",
       "    <tr>\n",
       "      <th id=\"T_ada1d_level0_row9\" class=\"row_heading level0 row9\" >9</th>\n",
       "      <td id=\"T_ada1d_row9_col0\" class=\"data row9 col0\" >Categorical features</td>\n",
       "      <td id=\"T_ada1d_row9_col1\" class=\"data row9 col1\" >1</td>\n",
       "    </tr>\n",
       "    <tr>\n",
       "      <th id=\"T_ada1d_level0_row10\" class=\"row_heading level0 row10\" >10</th>\n",
       "      <td id=\"T_ada1d_row10_col0\" class=\"data row10 col0\" >Preprocess</td>\n",
       "      <td id=\"T_ada1d_row10_col1\" class=\"data row10 col1\" >True</td>\n",
       "    </tr>\n",
       "    <tr>\n",
       "      <th id=\"T_ada1d_level0_row11\" class=\"row_heading level0 row11\" >11</th>\n",
       "      <td id=\"T_ada1d_row11_col0\" class=\"data row11 col0\" >Imputation type</td>\n",
       "      <td id=\"T_ada1d_row11_col1\" class=\"data row11 col1\" >simple</td>\n",
       "    </tr>\n",
       "    <tr>\n",
       "      <th id=\"T_ada1d_level0_row12\" class=\"row_heading level0 row12\" >12</th>\n",
       "      <td id=\"T_ada1d_row12_col0\" class=\"data row12 col0\" >Numeric imputation</td>\n",
       "      <td id=\"T_ada1d_row12_col1\" class=\"data row12 col1\" >mean</td>\n",
       "    </tr>\n",
       "    <tr>\n",
       "      <th id=\"T_ada1d_level0_row13\" class=\"row_heading level0 row13\" >13</th>\n",
       "      <td id=\"T_ada1d_row13_col0\" class=\"data row13 col0\" >Categorical imputation</td>\n",
       "      <td id=\"T_ada1d_row13_col1\" class=\"data row13 col1\" >mode</td>\n",
       "    </tr>\n",
       "    <tr>\n",
       "      <th id=\"T_ada1d_level0_row14\" class=\"row_heading level0 row14\" >14</th>\n",
       "      <td id=\"T_ada1d_row14_col0\" class=\"data row14 col0\" >Maximum one-hot encoding</td>\n",
       "      <td id=\"T_ada1d_row14_col1\" class=\"data row14 col1\" >25</td>\n",
       "    </tr>\n",
       "    <tr>\n",
       "      <th id=\"T_ada1d_level0_row15\" class=\"row_heading level0 row15\" >15</th>\n",
       "      <td id=\"T_ada1d_row15_col0\" class=\"data row15 col0\" >Encoding method</td>\n",
       "      <td id=\"T_ada1d_row15_col1\" class=\"data row15 col1\" >None</td>\n",
       "    </tr>\n",
       "    <tr>\n",
       "      <th id=\"T_ada1d_level0_row16\" class=\"row_heading level0 row16\" >16</th>\n",
       "      <td id=\"T_ada1d_row16_col0\" class=\"data row16 col0\" >Fold Generator</td>\n",
       "      <td id=\"T_ada1d_row16_col1\" class=\"data row16 col1\" >StratifiedKFold</td>\n",
       "    </tr>\n",
       "    <tr>\n",
       "      <th id=\"T_ada1d_level0_row17\" class=\"row_heading level0 row17\" >17</th>\n",
       "      <td id=\"T_ada1d_row17_col0\" class=\"data row17 col0\" >Fold Number</td>\n",
       "      <td id=\"T_ada1d_row17_col1\" class=\"data row17 col1\" >10</td>\n",
       "    </tr>\n",
       "    <tr>\n",
       "      <th id=\"T_ada1d_level0_row18\" class=\"row_heading level0 row18\" >18</th>\n",
       "      <td id=\"T_ada1d_row18_col0\" class=\"data row18 col0\" >CPU Jobs</td>\n",
       "      <td id=\"T_ada1d_row18_col1\" class=\"data row18 col1\" >-1</td>\n",
       "    </tr>\n",
       "    <tr>\n",
       "      <th id=\"T_ada1d_level0_row19\" class=\"row_heading level0 row19\" >19</th>\n",
       "      <td id=\"T_ada1d_row19_col0\" class=\"data row19 col0\" >Use GPU</td>\n",
       "      <td id=\"T_ada1d_row19_col1\" class=\"data row19 col1\" >False</td>\n",
       "    </tr>\n",
       "    <tr>\n",
       "      <th id=\"T_ada1d_level0_row20\" class=\"row_heading level0 row20\" >20</th>\n",
       "      <td id=\"T_ada1d_row20_col0\" class=\"data row20 col0\" >Log Experiment</td>\n",
       "      <td id=\"T_ada1d_row20_col1\" class=\"data row20 col1\" >False</td>\n",
       "    </tr>\n",
       "    <tr>\n",
       "      <th id=\"T_ada1d_level0_row21\" class=\"row_heading level0 row21\" >21</th>\n",
       "      <td id=\"T_ada1d_row21_col0\" class=\"data row21 col0\" >Experiment Name</td>\n",
       "      <td id=\"T_ada1d_row21_col1\" class=\"data row21 col1\" >clf-default-name</td>\n",
       "    </tr>\n",
       "    <tr>\n",
       "      <th id=\"T_ada1d_level0_row22\" class=\"row_heading level0 row22\" >22</th>\n",
       "      <td id=\"T_ada1d_row22_col0\" class=\"data row22 col0\" >USI</td>\n",
       "      <td id=\"T_ada1d_row22_col1\" class=\"data row22 col1\" >91b0</td>\n",
       "    </tr>\n",
       "  </tbody>\n",
       "</table>\n"
      ],
      "text/plain": [
       "<pandas.io.formats.style.Styler at 0x1ffb1c2e500>"
      ]
     },
     "metadata": {},
     "output_type": "display_data"
    }
   ],
   "source": [
    "model_clf02 = setup(data = devices_model_estr, target = 'failure', session_id=100)"
   ]
  },
  {
   "cell_type": "code",
   "execution_count": 213,
   "id": "cf8c94c0",
   "metadata": {},
   "outputs": [
    {
     "data": {
      "text/html": [],
      "text/plain": [
       "<IPython.core.display.HTML object>"
      ]
     },
     "metadata": {},
     "output_type": "display_data"
    },
    {
     "data": {
      "text/html": [
       "<style type=\"text/css\">\n",
       "#T_bdf7a th {\n",
       "  text-align: left;\n",
       "}\n",
       "#T_bdf7a_row0_col0, #T_bdf7a_row0_col3, #T_bdf7a_row0_col4, #T_bdf7a_row1_col0, #T_bdf7a_row1_col1, #T_bdf7a_row1_col2, #T_bdf7a_row1_col3, #T_bdf7a_row1_col4, #T_bdf7a_row1_col5, #T_bdf7a_row1_col6, #T_bdf7a_row1_col7, #T_bdf7a_row2_col0, #T_bdf7a_row2_col1, #T_bdf7a_row2_col2, #T_bdf7a_row2_col3, #T_bdf7a_row2_col4, #T_bdf7a_row2_col5, #T_bdf7a_row2_col6, #T_bdf7a_row2_col7, #T_bdf7a_row3_col0, #T_bdf7a_row3_col1, #T_bdf7a_row3_col2, #T_bdf7a_row3_col3, #T_bdf7a_row3_col4, #T_bdf7a_row3_col5, #T_bdf7a_row3_col6, #T_bdf7a_row3_col7, #T_bdf7a_row4_col0, #T_bdf7a_row4_col1, #T_bdf7a_row4_col2, #T_bdf7a_row4_col3, #T_bdf7a_row4_col4, #T_bdf7a_row4_col5, #T_bdf7a_row4_col6, #T_bdf7a_row4_col7, #T_bdf7a_row5_col0, #T_bdf7a_row5_col1, #T_bdf7a_row5_col2, #T_bdf7a_row5_col3, #T_bdf7a_row5_col4, #T_bdf7a_row5_col5, #T_bdf7a_row5_col6, #T_bdf7a_row5_col7, #T_bdf7a_row6_col0, #T_bdf7a_row6_col1, #T_bdf7a_row6_col2, #T_bdf7a_row6_col3, #T_bdf7a_row6_col4, #T_bdf7a_row6_col5, #T_bdf7a_row6_col6, #T_bdf7a_row6_col7, #T_bdf7a_row7_col0, #T_bdf7a_row7_col1, #T_bdf7a_row7_col2, #T_bdf7a_row7_col3, #T_bdf7a_row7_col4, #T_bdf7a_row7_col5, #T_bdf7a_row7_col6, #T_bdf7a_row7_col7, #T_bdf7a_row8_col0, #T_bdf7a_row8_col1, #T_bdf7a_row8_col2, #T_bdf7a_row8_col3, #T_bdf7a_row8_col5, #T_bdf7a_row8_col6, #T_bdf7a_row8_col7, #T_bdf7a_row9_col0, #T_bdf7a_row9_col1, #T_bdf7a_row9_col2, #T_bdf7a_row9_col4, #T_bdf7a_row9_col5, #T_bdf7a_row9_col6, #T_bdf7a_row9_col7, #T_bdf7a_row10_col0, #T_bdf7a_row10_col1, #T_bdf7a_row10_col2, #T_bdf7a_row10_col3, #T_bdf7a_row10_col4, #T_bdf7a_row10_col5, #T_bdf7a_row10_col6, #T_bdf7a_row10_col7, #T_bdf7a_row11_col0, #T_bdf7a_row11_col1, #T_bdf7a_row11_col2, #T_bdf7a_row11_col3, #T_bdf7a_row11_col4, #T_bdf7a_row11_col5, #T_bdf7a_row11_col6, #T_bdf7a_row11_col7, #T_bdf7a_row12_col0, #T_bdf7a_row12_col1, #T_bdf7a_row12_col2, #T_bdf7a_row12_col3, #T_bdf7a_row12_col4, #T_bdf7a_row12_col5, #T_bdf7a_row12_col6, #T_bdf7a_row12_col7, #T_bdf7a_row13_col0, #T_bdf7a_row13_col1, #T_bdf7a_row13_col2, #T_bdf7a_row13_col3, #T_bdf7a_row13_col4, #T_bdf7a_row13_col5, #T_bdf7a_row13_col6, #T_bdf7a_row13_col7 {\n",
       "  text-align: left;\n",
       "}\n",
       "#T_bdf7a_row0_col1, #T_bdf7a_row0_col2, #T_bdf7a_row0_col5, #T_bdf7a_row0_col6, #T_bdf7a_row0_col7, #T_bdf7a_row8_col4, #T_bdf7a_row9_col3 {\n",
       "  text-align: left;\n",
       "  background-color: yellow;\n",
       "}\n",
       "#T_bdf7a_row0_col8, #T_bdf7a_row1_col8, #T_bdf7a_row2_col8, #T_bdf7a_row3_col8, #T_bdf7a_row4_col8, #T_bdf7a_row5_col8, #T_bdf7a_row6_col8, #T_bdf7a_row7_col8, #T_bdf7a_row8_col8, #T_bdf7a_row10_col8, #T_bdf7a_row11_col8, #T_bdf7a_row12_col8, #T_bdf7a_row13_col8 {\n",
       "  text-align: left;\n",
       "  background-color: lightgrey;\n",
       "}\n",
       "#T_bdf7a_row9_col8 {\n",
       "  text-align: left;\n",
       "  background-color: yellow;\n",
       "  background-color: lightgrey;\n",
       "}\n",
       "</style>\n",
       "<table id=\"T_bdf7a\">\n",
       "  <thead>\n",
       "    <tr>\n",
       "      <th class=\"blank level0\" >&nbsp;</th>\n",
       "      <th id=\"T_bdf7a_level0_col0\" class=\"col_heading level0 col0\" >Model</th>\n",
       "      <th id=\"T_bdf7a_level0_col1\" class=\"col_heading level0 col1\" >Accuracy</th>\n",
       "      <th id=\"T_bdf7a_level0_col2\" class=\"col_heading level0 col2\" >AUC</th>\n",
       "      <th id=\"T_bdf7a_level0_col3\" class=\"col_heading level0 col3\" >Recall</th>\n",
       "      <th id=\"T_bdf7a_level0_col4\" class=\"col_heading level0 col4\" >Prec.</th>\n",
       "      <th id=\"T_bdf7a_level0_col5\" class=\"col_heading level0 col5\" >F1</th>\n",
       "      <th id=\"T_bdf7a_level0_col6\" class=\"col_heading level0 col6\" >Kappa</th>\n",
       "      <th id=\"T_bdf7a_level0_col7\" class=\"col_heading level0 col7\" >MCC</th>\n",
       "      <th id=\"T_bdf7a_level0_col8\" class=\"col_heading level0 col8\" >TT (Sec)</th>\n",
       "    </tr>\n",
       "  </thead>\n",
       "  <tbody>\n",
       "    <tr>\n",
       "      <th id=\"T_bdf7a_level0_row0\" class=\"row_heading level0 row0\" >lightgbm</th>\n",
       "      <td id=\"T_bdf7a_row0_col0\" class=\"data row0 col0\" >Light Gradient Boosting Machine</td>\n",
       "      <td id=\"T_bdf7a_row0_col1\" class=\"data row0 col1\" >0.8119</td>\n",
       "      <td id=\"T_bdf7a_row0_col2\" class=\"data row0 col2\" >0.8621</td>\n",
       "      <td id=\"T_bdf7a_row0_col3\" class=\"data row0 col3\" >0.7196</td>\n",
       "      <td id=\"T_bdf7a_row0_col4\" class=\"data row0 col4\" >0.8996</td>\n",
       "      <td id=\"T_bdf7a_row0_col5\" class=\"data row0 col5\" >0.7846</td>\n",
       "      <td id=\"T_bdf7a_row0_col6\" class=\"data row0 col6\" >0.6244</td>\n",
       "      <td id=\"T_bdf7a_row0_col7\" class=\"data row0 col7\" >0.6492</td>\n",
       "      <td id=\"T_bdf7a_row0_col8\" class=\"data row0 col8\" >0.1070</td>\n",
       "    </tr>\n",
       "    <tr>\n",
       "      <th id=\"T_bdf7a_level0_row1\" class=\"row_heading level0 row1\" >ada</th>\n",
       "      <td id=\"T_bdf7a_row1_col0\" class=\"data row1 col0\" >Ada Boost Classifier</td>\n",
       "      <td id=\"T_bdf7a_row1_col1\" class=\"data row1 col1\" >0.7843</td>\n",
       "      <td id=\"T_bdf7a_row1_col2\" class=\"data row1 col2\" >0.8310</td>\n",
       "      <td id=\"T_bdf7a_row1_col3\" class=\"data row1 col3\" >0.6893</td>\n",
       "      <td id=\"T_bdf7a_row1_col4\" class=\"data row1 col4\" >0.8780</td>\n",
       "      <td id=\"T_bdf7a_row1_col5\" class=\"data row1 col5\" >0.7548</td>\n",
       "      <td id=\"T_bdf7a_row1_col6\" class=\"data row1 col6\" >0.5688</td>\n",
       "      <td id=\"T_bdf7a_row1_col7\" class=\"data row1 col7\" >0.6006</td>\n",
       "      <td id=\"T_bdf7a_row1_col8\" class=\"data row1 col8\" >0.0710</td>\n",
       "    </tr>\n",
       "    <tr>\n",
       "      <th id=\"T_bdf7a_level0_row2\" class=\"row_heading level0 row2\" >dt</th>\n",
       "      <td id=\"T_bdf7a_row2_col0\" class=\"data row2 col0\" >Decision Tree Classifier</td>\n",
       "      <td id=\"T_bdf7a_row2_col1\" class=\"data row2 col1\" >0.7790</td>\n",
       "      <td id=\"T_bdf7a_row2_col2\" class=\"data row2 col2\" >0.7526</td>\n",
       "      <td id=\"T_bdf7a_row2_col3\" class=\"data row2 col3\" >0.7054</td>\n",
       "      <td id=\"T_bdf7a_row2_col4\" class=\"data row2 col4\" >0.8446</td>\n",
       "      <td id=\"T_bdf7a_row2_col5\" class=\"data row2 col5\" >0.7554</td>\n",
       "      <td id=\"T_bdf7a_row2_col6\" class=\"data row2 col6\" >0.5570</td>\n",
       "      <td id=\"T_bdf7a_row2_col7\" class=\"data row2 col7\" >0.5763</td>\n",
       "      <td id=\"T_bdf7a_row2_col8\" class=\"data row2 col8\" >0.0470</td>\n",
       "    </tr>\n",
       "    <tr>\n",
       "      <th id=\"T_bdf7a_level0_row3\" class=\"row_heading level0 row3\" >rf</th>\n",
       "      <td id=\"T_bdf7a_row3_col0\" class=\"data row3 col0\" >Random Forest Classifier</td>\n",
       "      <td id=\"T_bdf7a_row3_col1\" class=\"data row3 col1\" >0.7786</td>\n",
       "      <td id=\"T_bdf7a_row3_col2\" class=\"data row3 col2\" >0.8344</td>\n",
       "      <td id=\"T_bdf7a_row3_col3\" class=\"data row3 col3\" >0.7161</td>\n",
       "      <td id=\"T_bdf7a_row3_col4\" class=\"data row3 col4\" >0.8429</td>\n",
       "      <td id=\"T_bdf7a_row3_col5\" class=\"data row3 col5\" >0.7604</td>\n",
       "      <td id=\"T_bdf7a_row3_col6\" class=\"data row3 col6\" >0.5541</td>\n",
       "      <td id=\"T_bdf7a_row3_col7\" class=\"data row3 col7\" >0.5737</td>\n",
       "      <td id=\"T_bdf7a_row3_col8\" class=\"data row3 col8\" >0.1160</td>\n",
       "    </tr>\n",
       "    <tr>\n",
       "      <th id=\"T_bdf7a_level0_row4\" class=\"row_heading level0 row4\" >et</th>\n",
       "      <td id=\"T_bdf7a_row4_col0\" class=\"data row4 col0\" >Extra Trees Classifier</td>\n",
       "      <td id=\"T_bdf7a_row4_col1\" class=\"data row4 col1\" >0.7781</td>\n",
       "      <td id=\"T_bdf7a_row4_col2\" class=\"data row4 col2\" >0.8152</td>\n",
       "      <td id=\"T_bdf7a_row4_col3\" class=\"data row4 col3\" >0.7304</td>\n",
       "      <td id=\"T_bdf7a_row4_col4\" class=\"data row4 col4\" >0.8232</td>\n",
       "      <td id=\"T_bdf7a_row4_col5\" class=\"data row4 col5\" >0.7605</td>\n",
       "      <td id=\"T_bdf7a_row4_col6\" class=\"data row4 col6\" >0.5540</td>\n",
       "      <td id=\"T_bdf7a_row4_col7\" class=\"data row4 col7\" >0.5696</td>\n",
       "      <td id=\"T_bdf7a_row4_col8\" class=\"data row4 col8\" >0.1150</td>\n",
       "    </tr>\n",
       "    <tr>\n",
       "      <th id=\"T_bdf7a_level0_row5\" class=\"row_heading level0 row5\" >gbc</th>\n",
       "      <td id=\"T_bdf7a_row5_col0\" class=\"data row5 col0\" >Gradient Boosting Classifier</td>\n",
       "      <td id=\"T_bdf7a_row5_col1\" class=\"data row5 col1\" >0.7648</td>\n",
       "      <td id=\"T_bdf7a_row5_col2\" class=\"data row5 col2\" >0.8393</td>\n",
       "      <td id=\"T_bdf7a_row5_col3\" class=\"data row5 col3\" >0.6929</td>\n",
       "      <td id=\"T_bdf7a_row5_col4\" class=\"data row5 col4\" >0.8420</td>\n",
       "      <td id=\"T_bdf7a_row5_col5\" class=\"data row5 col5\" >0.7431</td>\n",
       "      <td id=\"T_bdf7a_row5_col6\" class=\"data row5 col6\" >0.5295</td>\n",
       "      <td id=\"T_bdf7a_row5_col7\" class=\"data row5 col7\" >0.5565</td>\n",
       "      <td id=\"T_bdf7a_row5_col8\" class=\"data row5 col8\" >0.0740</td>\n",
       "    </tr>\n",
       "    <tr>\n",
       "      <th id=\"T_bdf7a_level0_row6\" class=\"row_heading level0 row6\" >lr</th>\n",
       "      <td id=\"T_bdf7a_row6_col0\" class=\"data row6 col0\" >Logistic Regression</td>\n",
       "      <td id=\"T_bdf7a_row6_col1\" class=\"data row6 col1\" >0.7576</td>\n",
       "      <td id=\"T_bdf7a_row6_col2\" class=\"data row6 col2\" >0.7912</td>\n",
       "      <td id=\"T_bdf7a_row6_col3\" class=\"data row6 col3\" >0.6036</td>\n",
       "      <td id=\"T_bdf7a_row6_col4\" class=\"data row6 col4\" >0.9125</td>\n",
       "      <td id=\"T_bdf7a_row6_col5\" class=\"data row6 col5\" >0.6998</td>\n",
       "      <td id=\"T_bdf7a_row6_col6\" class=\"data row6 col6\" >0.5207</td>\n",
       "      <td id=\"T_bdf7a_row6_col7\" class=\"data row6 col7\" >0.5719</td>\n",
       "      <td id=\"T_bdf7a_row6_col8\" class=\"data row6 col8\" >0.0470</td>\n",
       "    </tr>\n",
       "    <tr>\n",
       "      <th id=\"T_bdf7a_level0_row7\" class=\"row_heading level0 row7\" >knn</th>\n",
       "      <td id=\"T_bdf7a_row7_col0\" class=\"data row7 col0\" >K Neighbors Classifier</td>\n",
       "      <td id=\"T_bdf7a_row7_col1\" class=\"data row7 col1\" >0.7448</td>\n",
       "      <td id=\"T_bdf7a_row7_col2\" class=\"data row7 col2\" >0.8176</td>\n",
       "      <td id=\"T_bdf7a_row7_col3\" class=\"data row7 col3\" >0.6250</td>\n",
       "      <td id=\"T_bdf7a_row7_col4\" class=\"data row7 col4\" >0.8412</td>\n",
       "      <td id=\"T_bdf7a_row7_col5\" class=\"data row7 col5\" >0.7053</td>\n",
       "      <td id=\"T_bdf7a_row7_col6\" class=\"data row7 col6\" >0.4902</td>\n",
       "      <td id=\"T_bdf7a_row7_col7\" class=\"data row7 col7\" >0.5145</td>\n",
       "      <td id=\"T_bdf7a_row7_col8\" class=\"data row7 col8\" >0.0480</td>\n",
       "    </tr>\n",
       "    <tr>\n",
       "      <th id=\"T_bdf7a_level0_row8\" class=\"row_heading level0 row8\" >nb</th>\n",
       "      <td id=\"T_bdf7a_row8_col0\" class=\"data row8 col0\" >Naive Bayes</td>\n",
       "      <td id=\"T_bdf7a_row8_col1\" class=\"data row8 col1\" >0.7310</td>\n",
       "      <td id=\"T_bdf7a_row8_col2\" class=\"data row8 col2\" >0.7622</td>\n",
       "      <td id=\"T_bdf7a_row8_col3\" class=\"data row8 col3\" >0.5054</td>\n",
       "      <td id=\"T_bdf7a_row8_col4\" class=\"data row8 col4\" >0.9457</td>\n",
       "      <td id=\"T_bdf7a_row8_col5\" class=\"data row8 col5\" >0.6356</td>\n",
       "      <td id=\"T_bdf7a_row8_col6\" class=\"data row8 col6\" >0.4643</td>\n",
       "      <td id=\"T_bdf7a_row8_col7\" class=\"data row8 col7\" >0.5313</td>\n",
       "      <td id=\"T_bdf7a_row8_col8\" class=\"data row8 col8\" >0.0460</td>\n",
       "    </tr>\n",
       "    <tr>\n",
       "      <th id=\"T_bdf7a_level0_row9\" class=\"row_heading level0 row9\" >svm</th>\n",
       "      <td id=\"T_bdf7a_row9_col0\" class=\"data row9 col0\" >SVM - Linear Kernel</td>\n",
       "      <td id=\"T_bdf7a_row9_col1\" class=\"data row9 col1\" >0.7233</td>\n",
       "      <td id=\"T_bdf7a_row9_col2\" class=\"data row9 col2\" >0.0000</td>\n",
       "      <td id=\"T_bdf7a_row9_col3\" class=\"data row9 col3\" >0.7714</td>\n",
       "      <td id=\"T_bdf7a_row9_col4\" class=\"data row9 col4\" >0.7527</td>\n",
       "      <td id=\"T_bdf7a_row9_col5\" class=\"data row9 col5\" >0.7337</td>\n",
       "      <td id=\"T_bdf7a_row9_col6\" class=\"data row9 col6\" >0.4465</td>\n",
       "      <td id=\"T_bdf7a_row9_col7\" class=\"data row9 col7\" >0.4585</td>\n",
       "      <td id=\"T_bdf7a_row9_col8\" class=\"data row9 col8\" >0.0400</td>\n",
       "    </tr>\n",
       "    <tr>\n",
       "      <th id=\"T_bdf7a_level0_row10\" class=\"row_heading level0 row10\" >ridge</th>\n",
       "      <td id=\"T_bdf7a_row10_col0\" class=\"data row10 col0\" >Ridge Classifier</td>\n",
       "      <td id=\"T_bdf7a_row10_col1\" class=\"data row10 col1\" >0.6638</td>\n",
       "      <td id=\"T_bdf7a_row10_col2\" class=\"data row10 col2\" >0.0000</td>\n",
       "      <td id=\"T_bdf7a_row10_col3\" class=\"data row10 col3\" >0.3964</td>\n",
       "      <td id=\"T_bdf7a_row10_col4\" class=\"data row10 col4\" >0.8583</td>\n",
       "      <td id=\"T_bdf7a_row10_col5\" class=\"data row10 col5\" >0.5221</td>\n",
       "      <td id=\"T_bdf7a_row10_col6\" class=\"data row10 col6\" >0.3297</td>\n",
       "      <td id=\"T_bdf7a_row10_col7\" class=\"data row10 col7\" >0.3895</td>\n",
       "      <td id=\"T_bdf7a_row10_col8\" class=\"data row10 col8\" >0.0410</td>\n",
       "    </tr>\n",
       "    <tr>\n",
       "      <th id=\"T_bdf7a_level0_row11\" class=\"row_heading level0 row11\" >lda</th>\n",
       "      <td id=\"T_bdf7a_row11_col0\" class=\"data row11 col0\" >Linear Discriminant Analysis</td>\n",
       "      <td id=\"T_bdf7a_row11_col1\" class=\"data row11 col1\" >0.6571</td>\n",
       "      <td id=\"T_bdf7a_row11_col2\" class=\"data row11 col2\" >0.7200</td>\n",
       "      <td id=\"T_bdf7a_row11_col3\" class=\"data row11 col3\" >0.3964</td>\n",
       "      <td id=\"T_bdf7a_row11_col4\" class=\"data row11 col4\" >0.8433</td>\n",
       "      <td id=\"T_bdf7a_row11_col5\" class=\"data row11 col5\" >0.5182</td>\n",
       "      <td id=\"T_bdf7a_row11_col6\" class=\"data row11 col6\" >0.3160</td>\n",
       "      <td id=\"T_bdf7a_row11_col7\" class=\"data row11 col7\" >0.3727</td>\n",
       "      <td id=\"T_bdf7a_row11_col8\" class=\"data row11 col8\" >0.0500</td>\n",
       "    </tr>\n",
       "    <tr>\n",
       "      <th id=\"T_bdf7a_level0_row12\" class=\"row_heading level0 row12\" >qda</th>\n",
       "      <td id=\"T_bdf7a_row12_col0\" class=\"data row12 col0\" >Quadratic Discriminant Analysis</td>\n",
       "      <td id=\"T_bdf7a_row12_col1\" class=\"data row12 col1\" >0.4800</td>\n",
       "      <td id=\"T_bdf7a_row12_col2\" class=\"data row12 col2\" >0.0857</td>\n",
       "      <td id=\"T_bdf7a_row12_col3\" class=\"data row12 col3\" >0.1857</td>\n",
       "      <td id=\"T_bdf7a_row12_col4\" class=\"data row12 col4\" >0.0895</td>\n",
       "      <td id=\"T_bdf7a_row12_col5\" class=\"data row12 col5\" >0.1208</td>\n",
       "      <td id=\"T_bdf7a_row12_col6\" class=\"data row12 col6\" >-0.0134</td>\n",
       "      <td id=\"T_bdf7a_row12_col7\" class=\"data row12 col7\" >-0.0286</td>\n",
       "      <td id=\"T_bdf7a_row12_col8\" class=\"data row12 col8\" >0.0510</td>\n",
       "    </tr>\n",
       "    <tr>\n",
       "      <th id=\"T_bdf7a_level0_row13\" class=\"row_heading level0 row13\" >dummy</th>\n",
       "      <td id=\"T_bdf7a_row13_col0\" class=\"data row13 col0\" >Dummy Classifier</td>\n",
       "      <td id=\"T_bdf7a_row13_col1\" class=\"data row13 col1\" >0.4733</td>\n",
       "      <td id=\"T_bdf7a_row13_col2\" class=\"data row13 col2\" >0.5000</td>\n",
       "      <td id=\"T_bdf7a_row13_col3\" class=\"data row13 col3\" >0.4000</td>\n",
       "      <td id=\"T_bdf7a_row13_col4\" class=\"data row13 col4\" >0.1867</td>\n",
       "      <td id=\"T_bdf7a_row13_col5\" class=\"data row13 col5\" >0.2545</td>\n",
       "      <td id=\"T_bdf7a_row13_col6\" class=\"data row13 col6\" >0.0000</td>\n",
       "      <td id=\"T_bdf7a_row13_col7\" class=\"data row13 col7\" >0.0000</td>\n",
       "      <td id=\"T_bdf7a_row13_col8\" class=\"data row13 col8\" >0.0520</td>\n",
       "    </tr>\n",
       "  </tbody>\n",
       "</table>\n"
      ],
      "text/plain": [
       "<pandas.io.formats.style.Styler at 0x1ffad39d7e0>"
      ]
     },
     "metadata": {},
     "output_type": "display_data"
    },
    {
     "data": {
      "application/vnd.jupyter.widget-view+json": {
       "model_id": "",
       "version_major": 2,
       "version_minor": 0
      },
      "text/plain": [
       "Processing:   0%|          | 0/61 [00:00<?, ?it/s]"
      ]
     },
     "metadata": {},
     "output_type": "display_data"
    }
   ],
   "source": [
    "best_model = compare_models()"
   ]
  },
  {
   "cell_type": "code",
   "execution_count": 214,
   "id": "99b103b3",
   "metadata": {},
   "outputs": [
    {
     "data": {
      "text/html": [],
      "text/plain": [
       "<IPython.core.display.HTML object>"
      ]
     },
     "metadata": {},
     "output_type": "display_data"
    },
    {
     "data": {
      "text/html": [
       "<style type=\"text/css\">\n",
       "#T_f95e9_row10_col0, #T_f95e9_row10_col1, #T_f95e9_row10_col2, #T_f95e9_row10_col3, #T_f95e9_row10_col4, #T_f95e9_row10_col5, #T_f95e9_row10_col6 {\n",
       "  background: yellow;\n",
       "}\n",
       "</style>\n",
       "<table id=\"T_f95e9\">\n",
       "  <thead>\n",
       "    <tr>\n",
       "      <th class=\"blank level0\" >&nbsp;</th>\n",
       "      <th id=\"T_f95e9_level0_col0\" class=\"col_heading level0 col0\" >Accuracy</th>\n",
       "      <th id=\"T_f95e9_level0_col1\" class=\"col_heading level0 col1\" >AUC</th>\n",
       "      <th id=\"T_f95e9_level0_col2\" class=\"col_heading level0 col2\" >Recall</th>\n",
       "      <th id=\"T_f95e9_level0_col3\" class=\"col_heading level0 col3\" >Prec.</th>\n",
       "      <th id=\"T_f95e9_level0_col4\" class=\"col_heading level0 col4\" >F1</th>\n",
       "      <th id=\"T_f95e9_level0_col5\" class=\"col_heading level0 col5\" >Kappa</th>\n",
       "      <th id=\"T_f95e9_level0_col6\" class=\"col_heading level0 col6\" >MCC</th>\n",
       "    </tr>\n",
       "    <tr>\n",
       "      <th class=\"index_name level0\" >Fold</th>\n",
       "      <th class=\"blank col0\" >&nbsp;</th>\n",
       "      <th class=\"blank col1\" >&nbsp;</th>\n",
       "      <th class=\"blank col2\" >&nbsp;</th>\n",
       "      <th class=\"blank col3\" >&nbsp;</th>\n",
       "      <th class=\"blank col4\" >&nbsp;</th>\n",
       "      <th class=\"blank col5\" >&nbsp;</th>\n",
       "      <th class=\"blank col6\" >&nbsp;</th>\n",
       "    </tr>\n",
       "  </thead>\n",
       "  <tbody>\n",
       "    <tr>\n",
       "      <th id=\"T_f95e9_level0_row0\" class=\"row_heading level0 row0\" >0</th>\n",
       "      <td id=\"T_f95e9_row0_col0\" class=\"data row0 col0\" >0.8667</td>\n",
       "      <td id=\"T_f95e9_row0_col1\" class=\"data row0 col1\" >0.8839</td>\n",
       "      <td id=\"T_f95e9_row0_col2\" class=\"data row0 col2\" >0.8750</td>\n",
       "      <td id=\"T_f95e9_row0_col3\" class=\"data row0 col3\" >0.8750</td>\n",
       "      <td id=\"T_f95e9_row0_col4\" class=\"data row0 col4\" >0.8750</td>\n",
       "      <td id=\"T_f95e9_row0_col5\" class=\"data row0 col5\" >0.7321</td>\n",
       "      <td id=\"T_f95e9_row0_col6\" class=\"data row0 col6\" >0.7321</td>\n",
       "    </tr>\n",
       "    <tr>\n",
       "      <th id=\"T_f95e9_level0_row1\" class=\"row_heading level0 row1\" >1</th>\n",
       "      <td id=\"T_f95e9_row1_col0\" class=\"data row1 col0\" >0.8000</td>\n",
       "      <td id=\"T_f95e9_row1_col1\" class=\"data row1 col1\" >0.9018</td>\n",
       "      <td id=\"T_f95e9_row1_col2\" class=\"data row1 col2\" >0.6250</td>\n",
       "      <td id=\"T_f95e9_row1_col3\" class=\"data row1 col3\" >1.0000</td>\n",
       "      <td id=\"T_f95e9_row1_col4\" class=\"data row1 col4\" >0.7692</td>\n",
       "      <td id=\"T_f95e9_row1_col5\" class=\"data row1 col5\" >0.6087</td>\n",
       "      <td id=\"T_f95e9_row1_col6\" class=\"data row1 col6\" >0.6614</td>\n",
       "    </tr>\n",
       "    <tr>\n",
       "      <th id=\"T_f95e9_level0_row2\" class=\"row_heading level0 row2\" >2</th>\n",
       "      <td id=\"T_f95e9_row2_col0\" class=\"data row2 col0\" >0.8000</td>\n",
       "      <td id=\"T_f95e9_row2_col1\" class=\"data row2 col1\" >0.8214</td>\n",
       "      <td id=\"T_f95e9_row2_col2\" class=\"data row2 col2\" >0.6250</td>\n",
       "      <td id=\"T_f95e9_row2_col3\" class=\"data row2 col3\" >1.0000</td>\n",
       "      <td id=\"T_f95e9_row2_col4\" class=\"data row2 col4\" >0.7692</td>\n",
       "      <td id=\"T_f95e9_row2_col5\" class=\"data row2 col5\" >0.6087</td>\n",
       "      <td id=\"T_f95e9_row2_col6\" class=\"data row2 col6\" >0.6614</td>\n",
       "    </tr>\n",
       "    <tr>\n",
       "      <th id=\"T_f95e9_level0_row3\" class=\"row_heading level0 row3\" >3</th>\n",
       "      <td id=\"T_f95e9_row3_col0\" class=\"data row3 col0\" >0.6667</td>\n",
       "      <td id=\"T_f95e9_row3_col1\" class=\"data row3 col1\" >0.7143</td>\n",
       "      <td id=\"T_f95e9_row3_col2\" class=\"data row3 col2\" >0.5000</td>\n",
       "      <td id=\"T_f95e9_row3_col3\" class=\"data row3 col3\" >0.8000</td>\n",
       "      <td id=\"T_f95e9_row3_col4\" class=\"data row3 col4\" >0.6154</td>\n",
       "      <td id=\"T_f95e9_row3_col5\" class=\"data row3 col5\" >0.3478</td>\n",
       "      <td id=\"T_f95e9_row3_col6\" class=\"data row3 col6\" >0.3780</td>\n",
       "    </tr>\n",
       "    <tr>\n",
       "      <th id=\"T_f95e9_level0_row4\" class=\"row_heading level0 row4\" >4</th>\n",
       "      <td id=\"T_f95e9_row4_col0\" class=\"data row4 col0\" >0.9333</td>\n",
       "      <td id=\"T_f95e9_row4_col1\" class=\"data row4 col1\" >0.9911</td>\n",
       "      <td id=\"T_f95e9_row4_col2\" class=\"data row4 col2\" >0.8571</td>\n",
       "      <td id=\"T_f95e9_row4_col3\" class=\"data row4 col3\" >1.0000</td>\n",
       "      <td id=\"T_f95e9_row4_col4\" class=\"data row4 col4\" >0.9231</td>\n",
       "      <td id=\"T_f95e9_row4_col5\" class=\"data row4 col5\" >0.8649</td>\n",
       "      <td id=\"T_f95e9_row4_col6\" class=\"data row4 col6\" >0.8729</td>\n",
       "    </tr>\n",
       "    <tr>\n",
       "      <th id=\"T_f95e9_level0_row5\" class=\"row_heading level0 row5\" >5</th>\n",
       "      <td id=\"T_f95e9_row5_col0\" class=\"data row5 col0\" >0.8000</td>\n",
       "      <td id=\"T_f95e9_row5_col1\" class=\"data row5 col1\" >0.8482</td>\n",
       "      <td id=\"T_f95e9_row5_col2\" class=\"data row5 col2\" >0.8571</td>\n",
       "      <td id=\"T_f95e9_row5_col3\" class=\"data row5 col3\" >0.7500</td>\n",
       "      <td id=\"T_f95e9_row5_col4\" class=\"data row5 col4\" >0.8000</td>\n",
       "      <td id=\"T_f95e9_row5_col5\" class=\"data row5 col5\" >0.6018</td>\n",
       "      <td id=\"T_f95e9_row5_col6\" class=\"data row5 col6\" >0.6071</td>\n",
       "    </tr>\n",
       "    <tr>\n",
       "      <th id=\"T_f95e9_level0_row6\" class=\"row_heading level0 row6\" >6</th>\n",
       "      <td id=\"T_f95e9_row6_col0\" class=\"data row6 col0\" >0.7333</td>\n",
       "      <td id=\"T_f95e9_row6_col1\" class=\"data row6 col1\" >0.7768</td>\n",
       "      <td id=\"T_f95e9_row6_col2\" class=\"data row6 col2\" >0.4286</td>\n",
       "      <td id=\"T_f95e9_row6_col3\" class=\"data row6 col3\" >1.0000</td>\n",
       "      <td id=\"T_f95e9_row6_col4\" class=\"data row6 col4\" >0.6000</td>\n",
       "      <td id=\"T_f95e9_row6_col5\" class=\"data row6 col5\" >0.4444</td>\n",
       "      <td id=\"T_f95e9_row6_col6\" class=\"data row6 col6\" >0.5345</td>\n",
       "    </tr>\n",
       "    <tr>\n",
       "      <th id=\"T_f95e9_level0_row7\" class=\"row_heading level0 row7\" >7</th>\n",
       "      <td id=\"T_f95e9_row7_col0\" class=\"data row7 col0\" >0.7333</td>\n",
       "      <td id=\"T_f95e9_row7_col1\" class=\"data row7 col1\" >0.7857</td>\n",
       "      <td id=\"T_f95e9_row7_col2\" class=\"data row7 col2\" >0.7143</td>\n",
       "      <td id=\"T_f95e9_row7_col3\" class=\"data row7 col3\" >0.7143</td>\n",
       "      <td id=\"T_f95e9_row7_col4\" class=\"data row7 col4\" >0.7143</td>\n",
       "      <td id=\"T_f95e9_row7_col5\" class=\"data row7 col5\" >0.4643</td>\n",
       "      <td id=\"T_f95e9_row7_col6\" class=\"data row7 col6\" >0.4643</td>\n",
       "    </tr>\n",
       "    <tr>\n",
       "      <th id=\"T_f95e9_level0_row8\" class=\"row_heading level0 row8\" >8</th>\n",
       "      <td id=\"T_f95e9_row8_col0\" class=\"data row8 col0\" >0.9286</td>\n",
       "      <td id=\"T_f95e9_row8_col1\" class=\"data row8 col1\" >0.9388</td>\n",
       "      <td id=\"T_f95e9_row8_col2\" class=\"data row8 col2\" >0.8571</td>\n",
       "      <td id=\"T_f95e9_row8_col3\" class=\"data row8 col3\" >1.0000</td>\n",
       "      <td id=\"T_f95e9_row8_col4\" class=\"data row8 col4\" >0.9231</td>\n",
       "      <td id=\"T_f95e9_row8_col5\" class=\"data row8 col5\" >0.8571</td>\n",
       "      <td id=\"T_f95e9_row8_col6\" class=\"data row8 col6\" >0.8660</td>\n",
       "    </tr>\n",
       "    <tr>\n",
       "      <th id=\"T_f95e9_level0_row9\" class=\"row_heading level0 row9\" >9</th>\n",
       "      <td id=\"T_f95e9_row9_col0\" class=\"data row9 col0\" >0.8571</td>\n",
       "      <td id=\"T_f95e9_row9_col1\" class=\"data row9 col1\" >0.9592</td>\n",
       "      <td id=\"T_f95e9_row9_col2\" class=\"data row9 col2\" >0.8571</td>\n",
       "      <td id=\"T_f95e9_row9_col3\" class=\"data row9 col3\" >0.8571</td>\n",
       "      <td id=\"T_f95e9_row9_col4\" class=\"data row9 col4\" >0.8571</td>\n",
       "      <td id=\"T_f95e9_row9_col5\" class=\"data row9 col5\" >0.7143</td>\n",
       "      <td id=\"T_f95e9_row9_col6\" class=\"data row9 col6\" >0.7143</td>\n",
       "    </tr>\n",
       "    <tr>\n",
       "      <th id=\"T_f95e9_level0_row10\" class=\"row_heading level0 row10\" >Mean</th>\n",
       "      <td id=\"T_f95e9_row10_col0\" class=\"data row10 col0\" >0.8119</td>\n",
       "      <td id=\"T_f95e9_row10_col1\" class=\"data row10 col1\" >0.8621</td>\n",
       "      <td id=\"T_f95e9_row10_col2\" class=\"data row10 col2\" >0.7196</td>\n",
       "      <td id=\"T_f95e9_row10_col3\" class=\"data row10 col3\" >0.8996</td>\n",
       "      <td id=\"T_f95e9_row10_col4\" class=\"data row10 col4\" >0.7846</td>\n",
       "      <td id=\"T_f95e9_row10_col5\" class=\"data row10 col5\" >0.6244</td>\n",
       "      <td id=\"T_f95e9_row10_col6\" class=\"data row10 col6\" >0.6492</td>\n",
       "    </tr>\n",
       "    <tr>\n",
       "      <th id=\"T_f95e9_level0_row11\" class=\"row_heading level0 row11\" >Std</th>\n",
       "      <td id=\"T_f95e9_row11_col0\" class=\"data row11 col0\" >0.0820</td>\n",
       "      <td id=\"T_f95e9_row11_col1\" class=\"data row11 col1\" >0.0841</td>\n",
       "      <td id=\"T_f95e9_row11_col2\" class=\"data row11 col2\" >0.1583</td>\n",
       "      <td id=\"T_f95e9_row11_col3\" class=\"data row11 col3\" >0.1093</td>\n",
       "      <td id=\"T_f95e9_row11_col4\" class=\"data row11 col4\" >0.1096</td>\n",
       "      <td id=\"T_f95e9_row11_col5\" class=\"data row11 col5\" >0.1635</td>\n",
       "      <td id=\"T_f95e9_row11_col6\" class=\"data row11 col6\" >0.1520</td>\n",
       "    </tr>\n",
       "  </tbody>\n",
       "</table>\n"
      ],
      "text/plain": [
       "<pandas.io.formats.style.Styler at 0x1ffb23b5480>"
      ]
     },
     "metadata": {},
     "output_type": "display_data"
    },
    {
     "data": {
      "application/vnd.jupyter.widget-view+json": {
       "model_id": "",
       "version_major": 2,
       "version_minor": 0
      },
      "text/plain": [
       "Processing:   0%|          | 0/4 [00:00<?, ?it/s]"
      ]
     },
     "metadata": {},
     "output_type": "display_data"
    }
   ],
   "source": [
    "lightgbm = create_model('lightgbm')"
   ]
  },
  {
   "cell_type": "code",
   "execution_count": 215,
   "id": "ecfc1e61",
   "metadata": {},
   "outputs": [
    {
     "data": {
      "text/html": [],
      "text/plain": [
       "<IPython.core.display.HTML object>"
      ]
     },
     "metadata": {},
     "output_type": "display_data"
    },
    {
     "data": {
      "image/png": "[encoded data removed]",
      "text/plain": [
       "<Figure size 800x500 with 1 Axes>"
      ]
     },
     "metadata": {},
     "output_type": "display_data"
    }
   ],
   "source": [
    "plot_model(lightgbm, plot='feature')"
   ]
  },
  {
   "cell_type": "code",
   "execution_count": 216,
   "id": "6d681c72",
   "metadata": {},
   "outputs": [
    {
     "data": {
      "text/html": [],
      "text/plain": [
       "<IPython.core.display.HTML object>"
      ]
     },
     "metadata": {},
     "output_type": "display_data"
    },
    {
     "data": {
      "image/png": "[encoded data removed]",
      "text/plain": [
       "<Figure size 800x550 with 1 Axes>"
      ]
     },
     "metadata": {},
     "output_type": "display_data"
    }
   ],
   "source": [
    "plot_model(lightgbm, plot = 'confusion_matrix')"
   ]
  },
  {
   "cell_type": "code",
   "execution_count": 217,
   "id": "ed3a00eb",
   "metadata": {},
   "outputs": [
    {
     "data": {
      "text/html": [
       "<style type=\"text/css\">\n",
       "</style>\n",
       "<table id=\"T_cdefa\">\n",
       "  <thead>\n",
       "    <tr>\n",
       "      <th class=\"blank level0\" >&nbsp;</th>\n",
       "      <th id=\"T_cdefa_level0_col0\" class=\"col_heading level0 col0\" >Model</th>\n",
       "      <th id=\"T_cdefa_level0_col1\" class=\"col_heading level0 col1\" >Accuracy</th>\n",
       "      <th id=\"T_cdefa_level0_col2\" class=\"col_heading level0 col2\" >AUC</th>\n",
       "      <th id=\"T_cdefa_level0_col3\" class=\"col_heading level0 col3\" >Recall</th>\n",
       "      <th id=\"T_cdefa_level0_col4\" class=\"col_heading level0 col4\" >Prec.</th>\n",
       "      <th id=\"T_cdefa_level0_col5\" class=\"col_heading level0 col5\" >F1</th>\n",
       "      <th id=\"T_cdefa_level0_col6\" class=\"col_heading level0 col6\" >Kappa</th>\n",
       "      <th id=\"T_cdefa_level0_col7\" class=\"col_heading level0 col7\" >MCC</th>\n",
       "    </tr>\n",
       "  </thead>\n",
       "  <tbody>\n",
       "    <tr>\n",
       "      <th id=\"T_cdefa_level0_row0\" class=\"row_heading level0 row0\" >0</th>\n",
       "      <td id=\"T_cdefa_row0_col0\" class=\"data row0 col0\" >Light Gradient Boosting Machine</td>\n",
       "      <td id=\"T_cdefa_row0_col1\" class=\"data row0 col1\" >0.8281</td>\n",
       "      <td id=\"T_cdefa_row0_col2\" class=\"data row0 col2\" >0.8667</td>\n",
       "      <td id=\"T_cdefa_row0_col3\" class=\"data row0 col3\" >0.8125</td>\n",
       "      <td id=\"T_cdefa_row0_col4\" class=\"data row0 col4\" >0.8387</td>\n",
       "      <td id=\"T_cdefa_row0_col5\" class=\"data row0 col5\" >0.8254</td>\n",
       "      <td id=\"T_cdefa_row0_col6\" class=\"data row0 col6\" >0.6562</td>\n",
       "      <td id=\"T_cdefa_row0_col7\" class=\"data row0 col7\" >0.6566</td>\n",
       "    </tr>\n",
       "  </tbody>\n",
       "</table>\n"
      ],
      "text/plain": [
       "<pandas.io.formats.style.Styler at 0x1ffaf5264d0>"
      ]
     },
     "metadata": {},
     "output_type": "display_data"
    }
   ],
   "source": [
    "prediction = predict_model(lightgbm)"
   ]
  },
  {
   "cell_type": "code",
   "execution_count": 218,
   "id": "a3057d35",
   "metadata": {},
   "outputs": [
    {
     "data": {
      "text/html": [
       "<div>\n",
       "<style scoped>\n",
       "    .dataframe tbody tr th:only-of-type {\n",
       "        vertical-align: middle;\n",
       "    }\n",
       "\n",
       "    .dataframe tbody tr th {\n",
       "        vertical-align: top;\n",
       "    }\n",
       "\n",
       "    .dataframe thead th {\n",
       "        text-align: right;\n",
       "    }\n",
       "</style>\n",
       "<table border=\"1\" class=\"dataframe\">\n",
       "  <thead>\n",
       "    <tr style=\"text-align: right;\">\n",
       "      <th></th>\n",
       "      <th>attribute2</th>\n",
       "      <th>attribute4</th>\n",
       "      <th>attribute5</th>\n",
       "      <th>attribute3_g</th>\n",
       "      <th>attribute8</th>\n",
       "      <th>attribute9</th>\n",
       "      <th>failure</th>\n",
       "      <th>prediction_label</th>\n",
       "      <th>prediction_score</th>\n",
       "    </tr>\n",
       "  </thead>\n",
       "  <tbody>\n",
       "    <tr>\n",
       "      <th>2779</th>\n",
       "      <td>0</td>\n",
       "      <td>0</td>\n",
       "      <td>6</td>\n",
       "      <td>igual 0</td>\n",
       "      <td>0</td>\n",
       "      <td>0</td>\n",
       "      <td>0</td>\n",
       "      <td>0</td>\n",
       "      <td>0.86</td>\n",
       "    </tr>\n",
       "    <tr>\n",
       "      <th>76263</th>\n",
       "      <td>0</td>\n",
       "      <td>0</td>\n",
       "      <td>14</td>\n",
       "      <td>igual 0</td>\n",
       "      <td>832</td>\n",
       "      <td>5</td>\n",
       "      <td>1</td>\n",
       "      <td>1</td>\n",
       "      <td>0.71</td>\n",
       "    </tr>\n",
       "    <tr>\n",
       "      <th>15898</th>\n",
       "      <td>1184</td>\n",
       "      <td>0</td>\n",
       "      <td>14</td>\n",
       "      <td>igual 0</td>\n",
       "      <td>8</td>\n",
       "      <td>0</td>\n",
       "      <td>1</td>\n",
       "      <td>1</td>\n",
       "      <td>0.92</td>\n",
       "    </tr>\n",
       "    <tr>\n",
       "      <th>6655</th>\n",
       "      <td>0</td>\n",
       "      <td>0</td>\n",
       "      <td>8</td>\n",
       "      <td>igual 0</td>\n",
       "      <td>0</td>\n",
       "      <td>0</td>\n",
       "      <td>0</td>\n",
       "      <td>0</td>\n",
       "      <td>0.72</td>\n",
       "    </tr>\n",
       "    <tr>\n",
       "      <th>3372</th>\n",
       "      <td>0</td>\n",
       "      <td>0</td>\n",
       "      <td>9</td>\n",
       "      <td>igual 0</td>\n",
       "      <td>0</td>\n",
       "      <td>13</td>\n",
       "      <td>0</td>\n",
       "      <td>1</td>\n",
       "      <td>0.58</td>\n",
       "    </tr>\n",
       "  </tbody>\n",
       "</table>\n",
       "</div>"
      ],
      "text/plain": [
       "       attribute2  attribute4  attribute5 attribute3_g  attribute8  \\\n",
       "2779            0           0           6      igual 0           0   \n",
       "76263           0           0          14      igual 0         832   \n",
       "15898        1184           0          14      igual 0           8   \n",
       "6655            0           0           8      igual 0           0   \n",
       "3372            0           0           9      igual 0           0   \n",
       "\n",
       "       attribute9  failure  prediction_label  prediction_score  \n",
       "2779            0        0                 0              0.86  \n",
       "76263           5        1                 1              0.71  \n",
       "15898           0        1                 1              0.92  \n",
       "6655            0        0                 0              0.72  \n",
       "3372           13        0                 1              0.58  "
      ]
     },
     "execution_count": 218,
     "metadata": {},
     "output_type": "execute_result"
    }
   ],
   "source": [
    "prediction.head()"
   ]
  },
  {
   "cell_type": "code",
   "execution_count": 221,
   "id": "a8e0b2bd",
   "metadata": {},
   "outputs": [
    {
     "data": {
      "text/html": [
       "<div>\n",
       "<style scoped>\n",
       "    .dataframe tbody tr th:only-of-type {\n",
       "        vertical-align: middle;\n",
       "    }\n",
       "\n",
       "    .dataframe tbody tr th {\n",
       "        vertical-align: top;\n",
       "    }\n",
       "\n",
       "    .dataframe thead th {\n",
       "        text-align: right;\n",
       "    }\n",
       "</style>\n",
       "<table border=\"1\" class=\"dataframe\">\n",
       "  <thead>\n",
       "    <tr style=\"text-align: right;\">\n",
       "      <th></th>\n",
       "      <th>prediction_label</th>\n",
       "      <th>attribute2</th>\n",
       "    </tr>\n",
       "  </thead>\n",
       "  <tbody>\n",
       "    <tr>\n",
       "      <th>0</th>\n",
       "      <td>0</td>\n",
       "      <td>33</td>\n",
       "    </tr>\n",
       "    <tr>\n",
       "      <th>1</th>\n",
       "      <td>1</td>\n",
       "      <td>31</td>\n",
       "    </tr>\n",
       "  </tbody>\n",
       "</table>\n",
       "</div>"
      ],
      "text/plain": [
       "   prediction_label  attribute2\n",
       "0                 0          33\n",
       "1                 1          31"
      ]
     },
     "execution_count": 221,
     "metadata": {},
     "output_type": "execute_result"
    }
   ],
   "source": [
    "prediction.groupby(\"prediction_label\" , dropna=False)[\"attribute2\"].count().reset_index()"
   ]
  },
  {
   "cell_type": "code",
   "execution_count": 236,
   "id": "3b6557c7",
   "metadata": {},
   "outputs": [
    {
     "data": {
      "text/html": [
       "<style type=\"text/css\">\n",
       "</style>\n",
       "<table id=\"T_7c107\">\n",
       "  <thead>\n",
       "    <tr>\n",
       "      <th class=\"blank level0\" >&nbsp;</th>\n",
       "      <th id=\"T_7c107_level0_col0\" class=\"col_heading level0 col0\" >Model</th>\n",
       "      <th id=\"T_7c107_level0_col1\" class=\"col_heading level0 col1\" >Accuracy</th>\n",
       "      <th id=\"T_7c107_level0_col2\" class=\"col_heading level0 col2\" >AUC</th>\n",
       "      <th id=\"T_7c107_level0_col3\" class=\"col_heading level0 col3\" >Recall</th>\n",
       "      <th id=\"T_7c107_level0_col4\" class=\"col_heading level0 col4\" >Prec.</th>\n",
       "      <th id=\"T_7c107_level0_col5\" class=\"col_heading level0 col5\" >F1</th>\n",
       "      <th id=\"T_7c107_level0_col6\" class=\"col_heading level0 col6\" >Kappa</th>\n",
       "      <th id=\"T_7c107_level0_col7\" class=\"col_heading level0 col7\" >MCC</th>\n",
       "    </tr>\n",
       "  </thead>\n",
       "  <tbody>\n",
       "    <tr>\n",
       "      <th id=\"T_7c107_level0_row0\" class=\"row_heading level0 row0\" >0</th>\n",
       "      <td id=\"T_7c107_row0_col0\" class=\"data row0 col0\" >Light Gradient Boosting Machine</td>\n",
       "      <td id=\"T_7c107_row0_col1\" class=\"data row0 col1\" >0.8635</td>\n",
       "      <td id=\"T_7c107_row0_col2\" class=\"data row0 col2\" >0.8905</td>\n",
       "      <td id=\"T_7c107_row0_col3\" class=\"data row0 col3\" >0.7830</td>\n",
       "      <td id=\"T_7c107_row0_col4\" class=\"data row0 col4\" >0.0049</td>\n",
       "      <td id=\"T_7c107_row0_col5\" class=\"data row0 col5\" >0.0097</td>\n",
       "      <td id=\"T_7c107_row0_col6\" class=\"data row0 col6\" >0.0080</td>\n",
       "      <td id=\"T_7c107_row0_col7\" class=\"data row0 col7\" >0.0549</td>\n",
       "    </tr>\n",
       "  </tbody>\n",
       "</table>\n"
      ],
      "text/plain": [
       "<pandas.io.formats.style.Styler at 0x1ffb15ca9b0>"
      ]
     },
     "metadata": {},
     "output_type": "display_data"
    }
   ],
   "source": [
    "validation_predictions = predict_model(lightgbm, data=full_devices)"
   ]
  },
  {
   "cell_type": "code",
   "execution_count": 237,
   "id": "0afddfcd",
   "metadata": {},
   "outputs": [
    {
     "data": {
      "text/html": [
       "<div>\n",
       "<style scoped>\n",
       "    .dataframe tbody tr th:only-of-type {\n",
       "        vertical-align: middle;\n",
       "    }\n",
       "\n",
       "    .dataframe tbody tr th {\n",
       "        vertical-align: top;\n",
       "    }\n",
       "\n",
       "    .dataframe thead th {\n",
       "        text-align: right;\n",
       "    }\n",
       "</style>\n",
       "<table border=\"1\" class=\"dataframe\">\n",
       "  <thead>\n",
       "    <tr style=\"text-align: right;\">\n",
       "      <th></th>\n",
       "      <th>date</th>\n",
       "      <th>device</th>\n",
       "      <th>attribute1</th>\n",
       "      <th>attribute2</th>\n",
       "      <th>attribute3</th>\n",
       "      <th>attribute4</th>\n",
       "      <th>attribute5</th>\n",
       "      <th>attribute6</th>\n",
       "      <th>attribute7</th>\n",
       "      <th>attribute8</th>\n",
       "      <th>attribute9</th>\n",
       "      <th>attribute3_g</th>\n",
       "      <th>failure</th>\n",
       "      <th>prediction_label</th>\n",
       "      <th>prediction_score</th>\n",
       "    </tr>\n",
       "  </thead>\n",
       "  <tbody>\n",
       "    <tr>\n",
       "      <th>0</th>\n",
       "      <td>2015-01-01</td>\n",
       "      <td>S1F01085</td>\n",
       "      <td>215630672</td>\n",
       "      <td>56</td>\n",
       "      <td>0</td>\n",
       "      <td>52</td>\n",
       "      <td>6</td>\n",
       "      <td>407438</td>\n",
       "      <td>0</td>\n",
       "      <td>0</td>\n",
       "      <td>7</td>\n",
       "      <td>igual 0</td>\n",
       "      <td>0</td>\n",
       "      <td>1</td>\n",
       "      <td>0.94</td>\n",
       "    </tr>\n",
       "    <tr>\n",
       "      <th>1</th>\n",
       "      <td>2015-01-01</td>\n",
       "      <td>S1F0166B</td>\n",
       "      <td>61370680</td>\n",
       "      <td>0</td>\n",
       "      <td>3</td>\n",
       "      <td>0</td>\n",
       "      <td>6</td>\n",
       "      <td>403174</td>\n",
       "      <td>0</td>\n",
       "      <td>0</td>\n",
       "      <td>0</td>\n",
       "      <td>maior 0</td>\n",
       "      <td>0</td>\n",
       "      <td>0</td>\n",
       "      <td>0.86</td>\n",
       "    </tr>\n",
       "    <tr>\n",
       "      <th>2</th>\n",
       "      <td>2015-01-01</td>\n",
       "      <td>S1F01E6Y</td>\n",
       "      <td>173295968</td>\n",
       "      <td>0</td>\n",
       "      <td>0</td>\n",
       "      <td>0</td>\n",
       "      <td>12</td>\n",
       "      <td>237394</td>\n",
       "      <td>0</td>\n",
       "      <td>0</td>\n",
       "      <td>0</td>\n",
       "      <td>igual 0</td>\n",
       "      <td>0</td>\n",
       "      <td>0</td>\n",
       "      <td>0.81</td>\n",
       "    </tr>\n",
       "    <tr>\n",
       "      <th>3</th>\n",
       "      <td>2015-01-01</td>\n",
       "      <td>S1F01JE0</td>\n",
       "      <td>79694024</td>\n",
       "      <td>0</td>\n",
       "      <td>0</td>\n",
       "      <td>0</td>\n",
       "      <td>6</td>\n",
       "      <td>410186</td>\n",
       "      <td>0</td>\n",
       "      <td>0</td>\n",
       "      <td>0</td>\n",
       "      <td>igual 0</td>\n",
       "      <td>0</td>\n",
       "      <td>0</td>\n",
       "      <td>0.86</td>\n",
       "    </tr>\n",
       "    <tr>\n",
       "      <th>4</th>\n",
       "      <td>2015-01-01</td>\n",
       "      <td>S1F01R2B</td>\n",
       "      <td>135970480</td>\n",
       "      <td>0</td>\n",
       "      <td>0</td>\n",
       "      <td>0</td>\n",
       "      <td>15</td>\n",
       "      <td>313173</td>\n",
       "      <td>0</td>\n",
       "      <td>0</td>\n",
       "      <td>3</td>\n",
       "      <td>igual 0</td>\n",
       "      <td>0</td>\n",
       "      <td>0</td>\n",
       "      <td>0.62</td>\n",
       "    </tr>\n",
       "  </tbody>\n",
       "</table>\n",
       "</div>"
      ],
      "text/plain": [
       "         date    device  attribute1  attribute2  attribute3  attribute4  \\\n",
       "0  2015-01-01  S1F01085   215630672          56           0          52   \n",
       "1  2015-01-01  S1F0166B    61370680           0           3           0   \n",
       "2  2015-01-01  S1F01E6Y   173295968           0           0           0   \n",
       "3  2015-01-01  S1F01JE0    79694024           0           0           0   \n",
       "4  2015-01-01  S1F01R2B   135970480           0           0           0   \n",
       "\n",
       "   attribute5  attribute6  attribute7  attribute8  attribute9 attribute3_g  \\\n",
       "0           6      407438           0           0           7      igual 0   \n",
       "1           6      403174           0           0           0      maior 0   \n",
       "2          12      237394           0           0           0      igual 0   \n",
       "3           6      410186           0           0           0      igual 0   \n",
       "4          15      313173           0           0           3      igual 0   \n",
       "\n",
       "   failure  prediction_label  prediction_score  \n",
       "0        0                 1              0.94  \n",
       "1        0                 0              0.86  \n",
       "2        0                 0              0.81  \n",
       "3        0                 0              0.86  \n",
       "4        0                 0              0.62  "
      ]
     },
     "execution_count": 237,
     "metadata": {},
     "output_type": "execute_result"
    }
   ],
   "source": [
    "validation_predictions.head()"
   ]
  },
  {
   "cell_type": "code",
   "execution_count": 238,
   "id": "8aee6403",
   "metadata": {},
   "outputs": [
    {
     "data": {
      "text/html": [
       "<div>\n",
       "<style scoped>\n",
       "    .dataframe tbody tr th:only-of-type {\n",
       "        vertical-align: middle;\n",
       "    }\n",
       "\n",
       "    .dataframe tbody tr th {\n",
       "        vertical-align: top;\n",
       "    }\n",
       "\n",
       "    .dataframe thead th {\n",
       "        text-align: right;\n",
       "    }\n",
       "</style>\n",
       "<table border=\"1\" class=\"dataframe\">\n",
       "  <thead>\n",
       "    <tr style=\"text-align: right;\">\n",
       "      <th></th>\n",
       "      <th>failure</th>\n",
       "      <th>prediction_label</th>\n",
       "      <th>device</th>\n",
       "    </tr>\n",
       "  </thead>\n",
       "  <tbody>\n",
       "    <tr>\n",
       "      <th>0</th>\n",
       "      <td>0</td>\n",
       "      <td>0</td>\n",
       "      <td>107422</td>\n",
       "    </tr>\n",
       "    <tr>\n",
       "      <th>1</th>\n",
       "      <td>0</td>\n",
       "      <td>1</td>\n",
       "      <td>16966</td>\n",
       "    </tr>\n",
       "    <tr>\n",
       "      <th>2</th>\n",
       "      <td>1</td>\n",
       "      <td>0</td>\n",
       "      <td>23</td>\n",
       "    </tr>\n",
       "    <tr>\n",
       "      <th>3</th>\n",
       "      <td>1</td>\n",
       "      <td>1</td>\n",
       "      <td>83</td>\n",
       "    </tr>\n",
       "  </tbody>\n",
       "</table>\n",
       "</div>"
      ],
      "text/plain": [
       "   failure  prediction_label  device\n",
       "0        0                 0  107422\n",
       "1        0                 1   16966\n",
       "2        1                 0      23\n",
       "3        1                 1      83"
      ]
     },
     "execution_count": 238,
     "metadata": {},
     "output_type": "execute_result"
    }
   ],
   "source": [
    "validation_predictions.groupby([\"failure\", 'prediction_label'], dropna=False)[\"device\"].count().reset_index()"
   ]
  },
  {
   "cell_type": "code",
   "execution_count": 239,
   "id": "d72f096c",
   "metadata": {},
   "outputs": [
    {
     "data": {
      "text/plain": [
       "Text(0.5, 0, 'Score')"
      ]
     },
     "execution_count": 239,
     "metadata": {},
     "output_type": "execute_result"
    },
    {
     "data": {
      "image/png": "[encoded data removed]",
      "text/plain": [
       "<Figure size 800x550 with 1 Axes>"
      ]
     },
     "metadata": {},
     "output_type": "display_data"
    }
   ],
   "source": [
    "ax = sns.histplot(data=validation_predictions, x=\"prediction_score\")\n",
    "ax.set_title('Score distribution')\n",
    "ax.set_ylabel('Quantidade')\n",
    "ax.set_xlabel('Score')"
   ]
  },
  {
   "cell_type": "code",
   "execution_count": 241,
   "id": "20f4bbcc",
   "metadata": {},
   "outputs": [],
   "source": [
    "validation_predictions['prediction_score_g'] = pd.cut(x=validation_predictions['prediction_score'], bins=[0, 0.9, 2],\n",
    "                    labels=['[0 a 0.9]', ']0.9 a 1]' ])"
   ]
  },
  {
   "cell_type": "code",
   "execution_count": 242,
   "id": "4e746668",
   "metadata": {},
   "outputs": [
    {
     "data": {
      "text/html": [
       "<div>\n",
       "<style scoped>\n",
       "    .dataframe tbody tr th:only-of-type {\n",
       "        vertical-align: middle;\n",
       "    }\n",
       "\n",
       "    .dataframe tbody tr th {\n",
       "        vertical-align: top;\n",
       "    }\n",
       "\n",
       "    .dataframe thead th {\n",
       "        text-align: right;\n",
       "    }\n",
       "</style>\n",
       "<table border=\"1\" class=\"dataframe\">\n",
       "  <thead>\n",
       "    <tr style=\"text-align: right;\">\n",
       "      <th></th>\n",
       "      <th>failure</th>\n",
       "      <th>prediction_score_g</th>\n",
       "      <th>device</th>\n",
       "    </tr>\n",
       "  </thead>\n",
       "  <tbody>\n",
       "    <tr>\n",
       "      <th>0</th>\n",
       "      <td>0</td>\n",
       "      <td>[0 a 0.9]</td>\n",
       "      <td>123085</td>\n",
       "    </tr>\n",
       "    <tr>\n",
       "      <th>1</th>\n",
       "      <td>0</td>\n",
       "      <td>]0.9 a 1]</td>\n",
       "      <td>1303</td>\n",
       "    </tr>\n",
       "    <tr>\n",
       "      <th>2</th>\n",
       "      <td>1</td>\n",
       "      <td>[0 a 0.9]</td>\n",
       "      <td>63</td>\n",
       "    </tr>\n",
       "    <tr>\n",
       "      <th>3</th>\n",
       "      <td>1</td>\n",
       "      <td>]0.9 a 1]</td>\n",
       "      <td>43</td>\n",
       "    </tr>\n",
       "  </tbody>\n",
       "</table>\n",
       "</div>"
      ],
      "text/plain": [
       "   failure prediction_score_g  device\n",
       "0        0          [0 a 0.9]  123085\n",
       "1        0          ]0.9 a 1]    1303\n",
       "2        1          [0 a 0.9]      63\n",
       "3        1          ]0.9 a 1]      43"
      ]
     },
     "execution_count": 242,
     "metadata": {},
     "output_type": "execute_result"
    }
   ],
   "source": [
    "validation_predictions.groupby([\"failure\", 'prediction_score_g'], dropna=False)[\"device\"].count().reset_index()"
   ]
  },
  {
   "cell_type": "code",
   "execution_count": 233,
   "id": "fba34f5e",
   "metadata": {},
   "outputs": [],
   "source": [
    "falso_posito = validation_predictions[(validation_predictions['prediction_label']==1) &\n",
    "                       (validation_predictions['failure']==0) ]\n",
    "\n",
    "acerto_1 = validation_predictions[(validation_predictions['prediction_label']==1) &\n",
    "                       (validation_predictions['failure']==1) ]\n",
    "\n",
    "acerto_0 = validation_predictions[(validation_predictions['prediction_label']==0) &\n",
    "                       (validation_predictions['failure']==0) ]"
   ]
  },
  {
   "cell_type": "code",
   "execution_count": 230,
   "id": "21bc3029",
   "metadata": {},
   "outputs": [
    {
     "data": {
      "text/plain": [
       "Text(0.5, 0, 'Score')"
      ]
     },
     "execution_count": 230,
     "metadata": {},
     "output_type": "execute_result"
    },
    {
     "data": {
      "image/png": "[encoded data removed]",
      "text/plain": [
       "<Figure size 800x550 with 1 Axes>"
      ]
     },
     "metadata": {},
     "output_type": "display_data"
    }
   ],
   "source": [
    "ax = sns.histplot(data=falso_posito, x=\"prediction_score\")\n",
    "ax.set_title('Score - Falso posito')\n",
    "ax.set_ylabel('Quantidade')\n",
    "ax.set_xlabel('Score')"
   ]
  },
  {
   "cell_type": "code",
   "execution_count": 234,
   "id": "4f48c230",
   "metadata": {},
   "outputs": [
    {
     "data": {
      "text/plain": [
       "Text(0.5, 0, 'Score')"
      ]
     },
     "execution_count": 234,
     "metadata": {},
     "output_type": "execute_result"
    },
    {
     "data": {
      "image/png": "[encoded data removed]",
      "text/plain": [
       "<Figure size 800x550 with 1 Axes>"
      ]
     },
     "metadata": {},
     "output_type": "display_data"
    }
   ],
   "source": [
    "ax = sns.histplot(data=acerto_1, x=\"prediction_score\")\n",
    "ax.set_title('Score - Acerto 1')\n",
    "ax.set_ylabel('Quantidade')\n",
    "ax.set_xlabel('Score')"
   ]
  },
  {
   "cell_type": "code",
   "execution_count": 235,
   "id": "19089c8a",
   "metadata": {},
   "outputs": [
    {
     "data": {
      "text/plain": [
       "Text(0.5, 0, 'Score')"
      ]
     },
     "execution_count": 235,
     "metadata": {},
     "output_type": "execute_result"
    },
    {
     "data": {
      "image/png": "[encoded data removed]",
      "text/plain": [
       "<Figure size 800x550 with 1 Axes>"
      ]
     },
     "metadata": {},
     "output_type": "display_data"
    }
   ],
   "source": [
    "ax = sns.histplot(data=acerto_0, x=\"prediction_score\")\n",
    "ax.set_title('Score - Acerto 0')\n",
    "ax.set_ylabel('Quantidade')\n",
    "ax.set_xlabel('Score')"
   ]
  },
  {
   "cell_type": "code",
   "execution_count": null,
   "id": "b41b41e0",
   "metadata": {},
   "outputs": [],
   "source": []
  },
  {
   "cell_type": "code",
   "execution_count": null,
   "id": "8b97fcba",
   "metadata": {},
   "outputs": [],
   "source": []
  },
  {
   "cell_type": "code",
   "execution_count": 248,
   "id": "f8417ee6",
   "metadata": {},
   "outputs": [],
   "source": [
    "# apos finalizar o modelo, ele deve ser salvo como o modelo abaixo"
   ]
  },
  {
   "cell_type": "code",
   "execution_count": 249,
   "id": "a7d25411",
   "metadata": {},
   "outputs": [],
   "source": [
    "final_lightgbm = finalize_model(lightgbm)"
   ]
  },
  {
   "cell_type": "code",
   "execution_count": 250,
   "id": "9e70f3d7",
   "metadata": {},
   "outputs": [
    {
     "name": "stdout",
     "output_type": "stream",
     "text": [
      "Pipeline(memory=FastMemory(location=C:\\Users\\marci\\AppData\\Local\\Temp\\joblib),\n",
      "         steps=[('numerical_imputer',\n",
      "                 TransformerWrapper(exclude=None,\n",
      "                                    include=['attribute2', 'attribute4',\n",
      "                                             'attribute5', 'attribute8',\n",
      "                                             'attribute9'],\n",
      "                                    transformer=SimpleImputer(add_indicator=False,\n",
      "                                                              copy=True,\n",
      "                                                              fill_value=None,\n",
      "                                                              keep_empty_features=False,\n",
      "                                                              missing_values=nan,\n",
      "                                                              strategy='mean',\n",
      "                                                              verb...\n",
      "                 LGBMClassifier(boosting_type='gbdt', class_weight=None,\n",
      "                                colsample_bytree=1.0, importance_type='split',\n",
      "                                learning_rate=0.1, max_depth=-1,\n",
      "                                min_child_samples=20, min_child_weight=0.001,\n",
      "                                min_split_gain=0.0, n_estimators=100, n_jobs=-1,\n",
      "                                num_leaves=31, objective=None, random_state=100,\n",
      "                                reg_alpha=0.0, reg_lambda=0.0, silent='warn',\n",
      "                                subsample=1.0, subsample_for_bin=200000,\n",
      "                                subsample_freq=0))],\n",
      "         verbose=False)\n"
     ]
    }
   ],
   "source": [
    "print(final_lightgbm)"
   ]
  },
  {
   "cell_type": "code",
   "execution_count": 251,
   "id": "a98a1b65",
   "metadata": {},
   "outputs": [
    {
     "name": "stdout",
     "output_type": "stream",
     "text": [
      "Transformation Pipeline and Model Successfully Saved\n"
     ]
    },
    {
     "data": {
      "text/plain": [
       "(Pipeline(memory=FastMemory(location=C:\\Users\\marci\\AppData\\Local\\Temp\\joblib),\n",
       "          steps=[('numerical_imputer',\n",
       "                  TransformerWrapper(exclude=None,\n",
       "                                     include=['attribute2', 'attribute4',\n",
       "                                              'attribute5', 'attribute8',\n",
       "                                              'attribute9'],\n",
       "                                     transformer=SimpleImputer(add_indicator=False,\n",
       "                                                               copy=True,\n",
       "                                                               fill_value=None,\n",
       "                                                               keep_empty_features=False,\n",
       "                                                               missing_values=nan,\n",
       "                                                               strategy='mean',\n",
       "                                                               verb...\n",
       "                  LGBMClassifier(boosting_type='gbdt', class_weight=None,\n",
       "                                 colsample_bytree=1.0, importance_type='split',\n",
       "                                 learning_rate=0.1, max_depth=-1,\n",
       "                                 min_child_samples=20, min_child_weight=0.001,\n",
       "                                 min_split_gain=0.0, n_estimators=100, n_jobs=-1,\n",
       "                                 num_leaves=31, objective=None, random_state=100,\n",
       "                                 reg_alpha=0.0, reg_lambda=0.0, silent='warn',\n",
       "                                 subsample=1.0, subsample_for_bin=200000,\n",
       "                                 subsample_freq=0))],\n",
       "          verbose=False),\n",
       " 'Final Model.pkl')"
      ]
     },
     "execution_count": 251,
     "metadata": {},
     "output_type": "execute_result"
    }
   ],
   "source": [
    "save_model(final_lightgbm,'Final Model')"
   ]
  },
  {
   "cell_type": "code",
   "execution_count": null,
   "id": "de739259",
   "metadata": {},
   "outputs": [],
   "source": []
  }
 ],
 "metadata": {
  "kernelspec": {
   "display_name": "Python 3 (ipykernel)",
   "language": "python",
   "name": "python3"
  },
  "language_info": {
   "codemirror_mode": {
    "name": "ipython",
    "version": 3
   },
   "file_extension": ".py",
   "mimetype": "text/x-python",
   "name": "python",
   "nbconvert_exporter": "python",
   "pygments_lexer": "ipython3",
   "version": "3.10.9"
  }
 },
 "nbformat": 4,
 "nbformat_minor": 5
}
